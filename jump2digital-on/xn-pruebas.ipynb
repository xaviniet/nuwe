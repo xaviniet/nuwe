{
 "cells": [
  {
   "cell_type": "code",
   "execution_count": 1,
   "id": "05fa0a23-5c61-4f3b-82ac-9bcc84f77b23",
   "metadata": {},
   "outputs": [],
   "source": [
    "import pandas as pd\n",
    "import numpy as np\n",
    "\n",
    "import matplotlib.pyplot as plt\n",
    "import seaborn as sns"
   ]
  },
  {
   "cell_type": "code",
   "execution_count": 2,
   "id": "6aa6dd4e-365e-4242-a938-a9edf605e4d7",
   "metadata": {},
   "outputs": [],
   "source": [
    "df = pd.read_csv('J2D_train.csv')"
   ]
  },
  {
   "cell_type": "code",
   "execution_count": null,
   "id": "ede0ef3a-a5b3-4670-a58d-066d04b8b789",
   "metadata": {},
   "outputs": [],
   "source": []
  },
  {
   "cell_type": "code",
   "execution_count": 3,
   "id": "c9591e3f-26fc-4218-8546-e313730251a6",
   "metadata": {},
   "outputs": [
    {
     "data": {
      "text/html": [
       "<div>\n",
       "<style scoped>\n",
       "    .dataframe tbody tr th:only-of-type {\n",
       "        vertical-align: middle;\n",
       "    }\n",
       "\n",
       "    .dataframe tbody tr th {\n",
       "        vertical-align: top;\n",
       "    }\n",
       "\n",
       "    .dataframe thead th {\n",
       "        text-align: right;\n",
       "    }\n",
       "</style>\n",
       "<table border=\"1\" class=\"dataframe\">\n",
       "  <thead>\n",
       "    <tr style=\"text-align: right;\">\n",
       "      <th></th>\n",
       "      <th>id</th>\n",
       "      <th>amount</th>\n",
       "      <th>status</th>\n",
       "      <th>created_at</th>\n",
       "      <th>user_id</th>\n",
       "      <th>money_back_date</th>\n",
       "      <th>transfer_type</th>\n",
       "      <th>send_at</th>\n",
       "    </tr>\n",
       "  </thead>\n",
       "  <tbody>\n",
       "    <tr>\n",
       "      <th>0</th>\n",
       "      <td>4405</td>\n",
       "      <td>100.0</td>\n",
       "      <td>rejected</td>\n",
       "      <td>2020-06-20 16:46:28.409042+00</td>\n",
       "      <td>14799.0</td>\n",
       "      <td>NaN</td>\n",
       "      <td>regular</td>\n",
       "      <td>NaN</td>\n",
       "    </tr>\n",
       "    <tr>\n",
       "      <th>1</th>\n",
       "      <td>13107</td>\n",
       "      <td>100.0</td>\n",
       "      <td>approved</td>\n",
       "      <td>2020-08-19 16:20:22.768375+00</td>\n",
       "      <td>8020.0</td>\n",
       "      <td>2020-09-24 22:23:28.213168+00</td>\n",
       "      <td>regular</td>\n",
       "      <td>2020-08-26 16:20:22.631568+00</td>\n",
       "    </tr>\n",
       "    <tr>\n",
       "      <th>2</th>\n",
       "      <td>11984</td>\n",
       "      <td>50.0</td>\n",
       "      <td>approved</td>\n",
       "      <td>2020-08-11 13:23:12.220906+00</td>\n",
       "      <td>27793.0</td>\n",
       "      <td>2020-11-19 23:00:00+00</td>\n",
       "      <td>instant</td>\n",
       "      <td>2020-08-18 13:23:12.220516+00</td>\n",
       "    </tr>\n",
       "    <tr>\n",
       "      <th>3</th>\n",
       "      <td>11322</td>\n",
       "      <td>50.0</td>\n",
       "      <td>approved</td>\n",
       "      <td>2020-08-07 11:01:30.51934+00</td>\n",
       "      <td>15409.0</td>\n",
       "      <td>2020-08-29 22:12:23.812361+00</td>\n",
       "      <td>instant</td>\n",
       "      <td>2020-08-14 11:01:30.518974+00</td>\n",
       "    </tr>\n",
       "    <tr>\n",
       "      <th>4</th>\n",
       "      <td>16755</td>\n",
       "      <td>50.0</td>\n",
       "      <td>rejected</td>\n",
       "      <td>2020-09-18 13:08:34.789948+00</td>\n",
       "      <td>39701.0</td>\n",
       "      <td>NaN</td>\n",
       "      <td>regular</td>\n",
       "      <td>2020-09-25 13:08:34.765418+00</td>\n",
       "    </tr>\n",
       "  </tbody>\n",
       "</table>\n",
       "</div>"
      ],
      "text/plain": [
       "      id  amount    status                     created_at  user_id  \\\n",
       "0   4405   100.0  rejected  2020-06-20 16:46:28.409042+00  14799.0   \n",
       "1  13107   100.0  approved  2020-08-19 16:20:22.768375+00   8020.0   \n",
       "2  11984    50.0  approved  2020-08-11 13:23:12.220906+00  27793.0   \n",
       "3  11322    50.0  approved   2020-08-07 11:01:30.51934+00  15409.0   \n",
       "4  16755    50.0  rejected  2020-09-18 13:08:34.789948+00  39701.0   \n",
       "\n",
       "                 money_back_date transfer_type                        send_at  \n",
       "0                            NaN       regular                            NaN  \n",
       "1  2020-09-24 22:23:28.213168+00       regular  2020-08-26 16:20:22.631568+00  \n",
       "2         2020-11-19 23:00:00+00       instant  2020-08-18 13:23:12.220516+00  \n",
       "3  2020-08-29 22:12:23.812361+00       instant  2020-08-14 11:01:30.518974+00  \n",
       "4                            NaN       regular  2020-09-25 13:08:34.765418+00  "
      ]
     },
     "execution_count": 3,
     "metadata": {},
     "output_type": "execute_result"
    }
   ],
   "source": [
    "df.head()"
   ]
  },
  {
   "cell_type": "code",
   "execution_count": 19,
   "id": "30922203-b5cc-47aa-a5ae-919759ca98a0",
   "metadata": {},
   "outputs": [],
   "source": [
    "df['date'] = pd.to_datetime(df.created_at)\n",
    "df['mb_date'] = pd.to_datetime(df.money_back_date)\n",
    "df['sa_date'] = pd.to_datetime(df.send_at)"
   ]
  },
  {
   "cell_type": "code",
   "execution_count": 7,
   "id": "6802a3df-8cc3-4048-91c7-beeded9c81ae",
   "metadata": {},
   "outputs": [],
   "source": [
    "grupomes = pd.Grouper(key='date', freq='M')"
   ]
  },
  {
   "cell_type": "code",
   "execution_count": 8,
   "id": "21b7573c-8383-432a-864f-b4bf02aaef0b",
   "metadata": {},
   "outputs": [
    {
     "data": {
      "text/html": [
       "<div>\n",
       "<style scoped>\n",
       "    .dataframe tbody tr th:only-of-type {\n",
       "        vertical-align: middle;\n",
       "    }\n",
       "\n",
       "    .dataframe tbody tr th {\n",
       "        vertical-align: top;\n",
       "    }\n",
       "\n",
       "    .dataframe thead th {\n",
       "        text-align: right;\n",
       "    }\n",
       "</style>\n",
       "<table border=\"1\" class=\"dataframe\">\n",
       "  <thead>\n",
       "    <tr style=\"text-align: right;\">\n",
       "      <th></th>\n",
       "      <th>id</th>\n",
       "      <th>amount</th>\n",
       "      <th>status</th>\n",
       "      <th>created_at</th>\n",
       "      <th>user_id</th>\n",
       "      <th>money_back_date</th>\n",
       "      <th>transfer_type</th>\n",
       "      <th>send_at</th>\n",
       "    </tr>\n",
       "    <tr>\n",
       "      <th>date</th>\n",
       "      <th></th>\n",
       "      <th></th>\n",
       "      <th></th>\n",
       "      <th></th>\n",
       "      <th></th>\n",
       "      <th></th>\n",
       "      <th></th>\n",
       "      <th></th>\n",
       "    </tr>\n",
       "  </thead>\n",
       "  <tbody>\n",
       "    <tr>\n",
       "      <th>2019-11-30 00:00:00+00:00</th>\n",
       "      <td>1</td>\n",
       "      <td>1</td>\n",
       "      <td>1</td>\n",
       "      <td>1</td>\n",
       "      <td>1</td>\n",
       "      <td>0</td>\n",
       "      <td>1</td>\n",
       "      <td>0</td>\n",
       "    </tr>\n",
       "    <tr>\n",
       "      <th>2019-12-31 00:00:00+00:00</th>\n",
       "      <td>289</td>\n",
       "      <td>289</td>\n",
       "      <td>289</td>\n",
       "      <td>289</td>\n",
       "      <td>230</td>\n",
       "      <td>37</td>\n",
       "      <td>289</td>\n",
       "      <td>0</td>\n",
       "    </tr>\n",
       "    <tr>\n",
       "      <th>2020-01-31 00:00:00+00:00</th>\n",
       "      <td>223</td>\n",
       "      <td>223</td>\n",
       "      <td>223</td>\n",
       "      <td>223</td>\n",
       "      <td>176</td>\n",
       "      <td>75</td>\n",
       "      <td>223</td>\n",
       "      <td>0</td>\n",
       "    </tr>\n",
       "    <tr>\n",
       "      <th>2020-02-29 00:00:00+00:00</th>\n",
       "      <td>184</td>\n",
       "      <td>184</td>\n",
       "      <td>184</td>\n",
       "      <td>184</td>\n",
       "      <td>157</td>\n",
       "      <td>73</td>\n",
       "      <td>184</td>\n",
       "      <td>0</td>\n",
       "    </tr>\n",
       "    <tr>\n",
       "      <th>2020-03-31 00:00:00+00:00</th>\n",
       "      <td>244</td>\n",
       "      <td>244</td>\n",
       "      <td>244</td>\n",
       "      <td>244</td>\n",
       "      <td>207</td>\n",
       "      <td>168</td>\n",
       "      <td>244</td>\n",
       "      <td>0</td>\n",
       "    </tr>\n",
       "    <tr>\n",
       "      <th>2020-04-30 00:00:00+00:00</th>\n",
       "      <td>473</td>\n",
       "      <td>473</td>\n",
       "      <td>473</td>\n",
       "      <td>473</td>\n",
       "      <td>418</td>\n",
       "      <td>322</td>\n",
       "      <td>473</td>\n",
       "      <td>0</td>\n",
       "    </tr>\n",
       "    <tr>\n",
       "      <th>2020-05-31 00:00:00+00:00</th>\n",
       "      <td>837</td>\n",
       "      <td>837</td>\n",
       "      <td>837</td>\n",
       "      <td>837</td>\n",
       "      <td>727</td>\n",
       "      <td>610</td>\n",
       "      <td>837</td>\n",
       "      <td>0</td>\n",
       "    </tr>\n",
       "    <tr>\n",
       "      <th>2020-06-30 00:00:00+00:00</th>\n",
       "      <td>2615</td>\n",
       "      <td>2615</td>\n",
       "      <td>2615</td>\n",
       "      <td>2615</td>\n",
       "      <td>2251</td>\n",
       "      <td>1639</td>\n",
       "      <td>2615</td>\n",
       "      <td>0</td>\n",
       "    </tr>\n",
       "    <tr>\n",
       "      <th>2020-07-31 00:00:00+00:00</th>\n",
       "      <td>3601</td>\n",
       "      <td>3601</td>\n",
       "      <td>3601</td>\n",
       "      <td>3601</td>\n",
       "      <td>3159</td>\n",
       "      <td>1951</td>\n",
       "      <td>3601</td>\n",
       "      <td>1138</td>\n",
       "    </tr>\n",
       "    <tr>\n",
       "      <th>2020-08-31 00:00:00+00:00</th>\n",
       "      <td>3417</td>\n",
       "      <td>3417</td>\n",
       "      <td>3417</td>\n",
       "      <td>3417</td>\n",
       "      <td>3090</td>\n",
       "      <td>1959</td>\n",
       "      <td>3417</td>\n",
       "      <td>3417</td>\n",
       "    </tr>\n",
       "    <tr>\n",
       "      <th>2020-09-30 00:00:00+00:00</th>\n",
       "      <td>4221</td>\n",
       "      <td>4221</td>\n",
       "      <td>4221</td>\n",
       "      <td>4221</td>\n",
       "      <td>3802</td>\n",
       "      <td>2664</td>\n",
       "      <td>4221</td>\n",
       "      <td>4221</td>\n",
       "    </tr>\n",
       "  </tbody>\n",
       "</table>\n",
       "</div>"
      ],
      "text/plain": [
       "                             id  amount  status  created_at  user_id  \\\n",
       "date                                                                   \n",
       "2019-11-30 00:00:00+00:00     1       1       1           1        1   \n",
       "2019-12-31 00:00:00+00:00   289     289     289         289      230   \n",
       "2020-01-31 00:00:00+00:00   223     223     223         223      176   \n",
       "2020-02-29 00:00:00+00:00   184     184     184         184      157   \n",
       "2020-03-31 00:00:00+00:00   244     244     244         244      207   \n",
       "2020-04-30 00:00:00+00:00   473     473     473         473      418   \n",
       "2020-05-31 00:00:00+00:00   837     837     837         837      727   \n",
       "2020-06-30 00:00:00+00:00  2615    2615    2615        2615     2251   \n",
       "2020-07-31 00:00:00+00:00  3601    3601    3601        3601     3159   \n",
       "2020-08-31 00:00:00+00:00  3417    3417    3417        3417     3090   \n",
       "2020-09-30 00:00:00+00:00  4221    4221    4221        4221     3802   \n",
       "\n",
       "                           money_back_date  transfer_type  send_at  \n",
       "date                                                                \n",
       "2019-11-30 00:00:00+00:00                0              1        0  \n",
       "2019-12-31 00:00:00+00:00               37            289        0  \n",
       "2020-01-31 00:00:00+00:00               75            223        0  \n",
       "2020-02-29 00:00:00+00:00               73            184        0  \n",
       "2020-03-31 00:00:00+00:00              168            244        0  \n",
       "2020-04-30 00:00:00+00:00              322            473        0  \n",
       "2020-05-31 00:00:00+00:00              610            837        0  \n",
       "2020-06-30 00:00:00+00:00             1639           2615        0  \n",
       "2020-07-31 00:00:00+00:00             1951           3601     1138  \n",
       "2020-08-31 00:00:00+00:00             1959           3417     3417  \n",
       "2020-09-30 00:00:00+00:00             2664           4221     4221  "
      ]
     },
     "execution_count": 8,
     "metadata": {},
     "output_type": "execute_result"
    }
   ],
   "source": [
    "df.groupby(grupomes).count()"
   ]
  },
  {
   "cell_type": "markdown",
   "id": "f42730af-cc43-4a1c-9fdd-e18403d93db8",
   "metadata": {},
   "source": [
    "Número de nuevos usarios por mes.\n",
    "Dinero total solicitado cada mes.\n",
    "Dinero medio solicitado por cada usuario al mes.\n",
    "Porcentaje de las solicitudes que son aceptadas cada mes.\n",
    "Número de solicitudes al mes que son aceptadas pero NO son devueltas.\n",
    "Número de solicitudes al mes que son aceptadas y SÍ son devueltas.\n",
    "Tiempo medio en devolver un préstamo (MM:DD:HH).\n",
    "Cantidad de dinero que se presta cada mes.\n",
    "Predecir la cantidad de dinero que se solicitara en Octubre."
   ]
  },
  {
   "cell_type": "code",
   "execution_count": 12,
   "id": "71a2959e-9a0f-44f4-8aea-6ca27420b6cb",
   "metadata": {},
   "outputs": [
    {
     "name": "stdout",
     "output_type": "stream",
     "text": [
      "<class 'pandas.core.frame.DataFrame'>\n",
      "RangeIndex: 16105 entries, 0 to 16104\n",
      "Data columns (total 10 columns):\n",
      " #   Column           Non-Null Count  Dtype              \n",
      "---  ------           --------------  -----              \n",
      " 0   id               16105 non-null  int64              \n",
      " 1   amount           16105 non-null  float64            \n",
      " 2   status           16105 non-null  object             \n",
      " 3   created_at       16105 non-null  object             \n",
      " 4   user_id          14218 non-null  float64            \n",
      " 5   money_back_date  9498 non-null   object             \n",
      " 6   transfer_type    16105 non-null  object             \n",
      " 7   send_at          8776 non-null   object             \n",
      " 8   date             16105 non-null  datetime64[ns, UTC]\n",
      " 9   mb_date          9498 non-null   datetime64[ns, UTC]\n",
      "dtypes: datetime64[ns, UTC](2), float64(2), int64(1), object(5)\n",
      "memory usage: 1.2+ MB\n"
     ]
    }
   ],
   "source": [
    "df.info()"
   ]
  },
  {
   "cell_type": "code",
   "execution_count": null,
   "id": "7d7e2827-ef2f-4cd1-b2c8-7ec4e988f464",
   "metadata": {},
   "outputs": [
    {
     "ename": "TypeError",
     "evalue": "unsupported operand type(s) for -: 'SeriesGroupBy' and 'SeriesGroupBy'",
     "output_type": "error",
     "traceback": [
      "\u001b[0;31m---------------------------------------------------------------------------\u001b[0m",
      "\u001b[0;31mTypeError\u001b[0m                                 Traceback (most recent call last)",
      "\u001b[0;32m/var/folders/v1/9zlyk7cx1l95dg8bzmxk09b80000gp/T/ipykernel_13568/4030932910.py\u001b[0m in \u001b[0;36m<module>\u001b[0;34m\u001b[0m\n\u001b[1;32m      1\u001b[0m \u001b[0mmask\u001b[0m \u001b[0;34m=\u001b[0m \u001b[0;34m(\u001b[0m\u001b[0mdf\u001b[0m\u001b[0;34m.\u001b[0m\u001b[0mmb_date\u001b[0m\u001b[0;34m.\u001b[0m\u001b[0misnull\u001b[0m\u001b[0;34m(\u001b[0m\u001b[0;34m)\u001b[0m\u001b[0;34m)\u001b[0m\u001b[0;34m\u001b[0m\u001b[0;34m\u001b[0m\u001b[0m\n\u001b[0;32m----> 2\u001b[0;31m \u001b[0;34m(\u001b[0m\u001b[0mdf\u001b[0m\u001b[0;34m[\u001b[0m\u001b[0;34m~\u001b[0m\u001b[0mmask\u001b[0m\u001b[0;34m]\u001b[0m\u001b[0;34m.\u001b[0m\u001b[0mgroupby\u001b[0m\u001b[0;34m(\u001b[0m\u001b[0mgrupomes\u001b[0m\u001b[0;34m)\u001b[0m\u001b[0;34m.\u001b[0m\u001b[0mmb_date\u001b[0m \u001b[0;34m-\u001b[0m \u001b[0mdf\u001b[0m\u001b[0;34m[\u001b[0m\u001b[0;34m~\u001b[0m\u001b[0mmask\u001b[0m\u001b[0;34m]\u001b[0m\u001b[0;34m.\u001b[0m\u001b[0mgroupby\u001b[0m\u001b[0;34m(\u001b[0m\u001b[0mgrupomes\u001b[0m\u001b[0;34m)\u001b[0m\u001b[0;34m.\u001b[0m\u001b[0mdate\u001b[0m\u001b[0;34m)\u001b[0m\u001b[0;34m.\u001b[0m\u001b[0mmean\u001b[0m\u001b[0;34m(\u001b[0m\u001b[0;34m)\u001b[0m\u001b[0;34m\u001b[0m\u001b[0;34m\u001b[0m\u001b[0m\n\u001b[0m",
      "\u001b[0;31mTypeError\u001b[0m: unsupported operand type(s) for -: 'SeriesGroupBy' and 'SeriesGroupBy'"
     ]
    }
   ],
   "source": [
    "mask = (df.mb_date.isnull())\n",
    "(df[~mask].groupby.mb_date - df[~mask].date).mean()"
   ]
  },
  {
   "cell_type": "code",
   "execution_count": 20,
   "id": "bd374b29-0e8a-4631-aada-a6777188d61b",
   "metadata": {},
   "outputs": [
    {
     "data": {
      "text/plain": [
       "Timedelta('7 days 07:58:08.014195150')"
      ]
     },
     "execution_count": 20,
     "metadata": {},
     "output_type": "execute_result"
    }
   ],
   "source": [
    "mask = (df.sa_date.isnull())\n",
    "(df[~mask].sa_date - df[~mask].date).mean()"
   ]
  },
  {
   "cell_type": "code",
   "execution_count": 40,
   "id": "d25a8dc1-714e-4d3d-b0cc-1b49d048a15e",
   "metadata": {},
   "outputs": [
    {
     "data": {
      "text/plain": [
       "NaN        1887\n",
       "2142.0       18\n",
       "3377.0       18\n",
       "13851.0      17\n",
       "10086.0      16\n",
       "           ... \n",
       "50267.0       1\n",
       "3381.0        1\n",
       "40506.0       1\n",
       "50744.0       1\n",
       "13332.0       1\n",
       "Name: user_id, Length: 6030, dtype: int64"
      ]
     },
     "execution_count": 40,
     "metadata": {},
     "output_type": "execute_result"
    }
   ],
   "source": [
    "df.user_id.value_counts(dropna=False)"
   ]
  },
  {
   "cell_type": "code",
   "execution_count": 66,
   "id": "d68513e0-84ae-412c-84d7-46482f8ea113",
   "metadata": {},
   "outputs": [
    {
     "data": {
      "text/html": [
       "<div>\n",
       "<style scoped>\n",
       "    .dataframe tbody tr th:only-of-type {\n",
       "        vertical-align: middle;\n",
       "    }\n",
       "\n",
       "    .dataframe tbody tr th {\n",
       "        vertical-align: top;\n",
       "    }\n",
       "\n",
       "    .dataframe thead th {\n",
       "        text-align: right;\n",
       "    }\n",
       "</style>\n",
       "<table border=\"1\" class=\"dataframe\">\n",
       "  <thead>\n",
       "    <tr style=\"text-align: right;\">\n",
       "      <th></th>\n",
       "      <th>id</th>\n",
       "      <th>amount</th>\n",
       "      <th>user_id</th>\n",
       "    </tr>\n",
       "    <tr>\n",
       "      <th>date</th>\n",
       "      <th></th>\n",
       "      <th></th>\n",
       "      <th></th>\n",
       "    </tr>\n",
       "  </thead>\n",
       "  <tbody>\n",
       "    <tr>\n",
       "      <th>2019-12-31 00:00:00+00:00</th>\n",
       "      <td>36954</td>\n",
       "      <td>16849.0</td>\n",
       "      <td>174346.0</td>\n",
       "    </tr>\n",
       "    <tr>\n",
       "      <th>2020-01-31 00:00:00+00:00</th>\n",
       "      <td>51169</td>\n",
       "      <td>10579.0</td>\n",
       "      <td>144672.0</td>\n",
       "    </tr>\n",
       "    <tr>\n",
       "      <th>2020-02-29 00:00:00+00:00</th>\n",
       "      <td>76297</td>\n",
       "      <td>10725.0</td>\n",
       "      <td>219674.0</td>\n",
       "    </tr>\n",
       "    <tr>\n",
       "      <th>2020-03-31 00:00:00+00:00</th>\n",
       "      <td>150419</td>\n",
       "      <td>16200.0</td>\n",
       "      <td>367137.0</td>\n",
       "    </tr>\n",
       "    <tr>\n",
       "      <th>2020-04-30 00:00:00+00:00</th>\n",
       "      <td>405717</td>\n",
       "      <td>31333.0</td>\n",
       "      <td>1301352.0</td>\n",
       "    </tr>\n",
       "    <tr>\n",
       "      <th>2020-05-31 00:00:00+00:00</th>\n",
       "      <td>1191264</td>\n",
       "      <td>57703.0</td>\n",
       "      <td>3501182.0</td>\n",
       "    </tr>\n",
       "    <tr>\n",
       "      <th>2020-06-30 00:00:00+00:00</th>\n",
       "      <td>6552679</td>\n",
       "      <td>154133.0</td>\n",
       "      <td>19244917.0</td>\n",
       "    </tr>\n",
       "    <tr>\n",
       "      <th>2020-07-31 00:00:00+00:00</th>\n",
       "      <td>16457651</td>\n",
       "      <td>184541.0</td>\n",
       "      <td>34325052.0</td>\n",
       "    </tr>\n",
       "    <tr>\n",
       "      <th>2020-08-31 00:00:00+00:00</th>\n",
       "      <td>24825174</td>\n",
       "      <td>179786.0</td>\n",
       "      <td>36350258.0</td>\n",
       "    </tr>\n",
       "    <tr>\n",
       "      <th>2020-09-30 00:00:00+00:00</th>\n",
       "      <td>45429379</td>\n",
       "      <td>234073.0</td>\n",
       "      <td>79277328.0</td>\n",
       "    </tr>\n",
       "  </tbody>\n",
       "</table>\n",
       "</div>"
      ],
      "text/plain": [
       "                                 id    amount     user_id\n",
       "date                                                     \n",
       "2019-12-31 00:00:00+00:00     36954   16849.0    174346.0\n",
       "2020-01-31 00:00:00+00:00     51169   10579.0    144672.0\n",
       "2020-02-29 00:00:00+00:00     76297   10725.0    219674.0\n",
       "2020-03-31 00:00:00+00:00    150419   16200.0    367137.0\n",
       "2020-04-30 00:00:00+00:00    405717   31333.0   1301352.0\n",
       "2020-05-31 00:00:00+00:00   1191264   57703.0   3501182.0\n",
       "2020-06-30 00:00:00+00:00   6552679  154133.0  19244917.0\n",
       "2020-07-31 00:00:00+00:00  16457651  184541.0  34325052.0\n",
       "2020-08-31 00:00:00+00:00  24825174  179786.0  36350258.0\n",
       "2020-09-30 00:00:00+00:00  45429379  234073.0  79277328.0"
      ]
     },
     "execution_count": 66,
     "metadata": {},
     "output_type": "execute_result"
    }
   ],
   "source": [
    "mask = df.status == 'approved'\n",
    "df[mask].groupby(by=pd.Grouper(key='date', freq='M'), dropna=False).sum()"
   ]
  },
  {
   "cell_type": "code",
   "execution_count": 64,
   "id": "9d86e1d6-b642-4169-a0f1-811997526ab7",
   "metadata": {},
   "outputs": [
    {
     "data": {
      "text/plain": [
       "(16105, 11)"
      ]
     },
     "execution_count": 64,
     "metadata": {},
     "output_type": "execute_result"
    }
   ],
   "source": [
    "df.shape"
   ]
  },
  {
   "cell_type": "code",
   "execution_count": 51,
   "id": "7b6b3bce-27ff-4c12-8d34-81cedaeeabf0",
   "metadata": {},
   "outputs": [
    {
     "data": {
      "text/plain": [
       "<AxesSubplot:xlabel='date', ylabel='amount'>"
      ]
     },
     "execution_count": 51,
     "metadata": {},
     "output_type": "execute_result"
    },
    {
     "data": {
      "image/png": "[encoded data removed]",
      "text/plain": [
       "<Figure size 432x288 with 1 Axes>"
      ]
     },
     "metadata": {
      "needs_background": "light"
     },
     "output_type": "display_data"
    }
   ],
   "source": [
    "data = df.groupby(grupomes).amount.sum().reset_index()\n",
    "sns.lineplot(data=data, x='date', y='amount')"
   ]
  },
  {
   "cell_type": "code",
   "execution_count": null,
   "id": "98e83d02-329a-4710-b9b8-ae588141ff39",
   "metadata": {},
   "outputs": [],
   "source": []
  },
  {
   "cell_type": "code",
   "execution_count": null,
   "id": "cc4e95f6-b4fe-45d2-9313-4a0dd218feb0",
   "metadata": {},
   "outputs": [],
   "source": [
    "mask = df.user_id.isnull()\n",
    "df[mask].id.sum()"
   ]
  },
  {
   "cell_type": "code",
   "execution_count": 44,
   "id": "e14b219b-aa77-499c-9dbe-c549c84b7b34",
   "metadata": {},
   "outputs": [
    {
     "data": {
      "text/plain": [
       "date\n",
       "2019-11-30 00:00:00+00:00       1\n",
       "2019-12-31 00:00:00+00:00     230\n",
       "2020-01-31 00:00:00+00:00     176\n",
       "2020-02-29 00:00:00+00:00     157\n",
       "2020-03-31 00:00:00+00:00     207\n",
       "2020-04-30 00:00:00+00:00     418\n",
       "2020-05-31 00:00:00+00:00     727\n",
       "2020-06-30 00:00:00+00:00    2251\n",
       "2020-07-31 00:00:00+00:00    3159\n",
       "2020-08-31 00:00:00+00:00    3090\n",
       "2020-09-30 00:00:00+00:00    3802\n",
       "Freq: M, Name: user_id, dtype: int64"
      ]
     },
     "execution_count": 44,
     "metadata": {},
     "output_type": "execute_result"
    }
   ],
   "source": [
    "df.groupby(grupomes,dropna=False).user_id.count()"
   ]
  },
  {
   "cell_type": "code",
   "execution_count": 18,
   "id": "87475b06-ca9f-4dfd-8e2b-bf8f2e8f6668",
   "metadata": {},
   "outputs": [
    {
     "name": "stdout",
     "output_type": "stream",
     "text": [
      "<class 'pandas.core.frame.DataFrame'>\n",
      "RangeIndex: 16105 entries, 0 to 16104\n",
      "Data columns (total 10 columns):\n",
      " #   Column           Non-Null Count  Dtype              \n",
      "---  ------           --------------  -----              \n",
      " 0   id               16105 non-null  int64              \n",
      " 1   amount           16105 non-null  float64            \n",
      " 2   status           16105 non-null  object             \n",
      " 3   created_at       16105 non-null  object             \n",
      " 4   user_id          14218 non-null  float64            \n",
      " 5   money_back_date  9498 non-null   object             \n",
      " 6   transfer_type    16105 non-null  object             \n",
      " 7   send_at          8776 non-null   object             \n",
      " 8   date             16105 non-null  datetime64[ns, UTC]\n",
      " 9   mb_date          9498 non-null   datetime64[ns, UTC]\n",
      "dtypes: datetime64[ns, UTC](2), float64(2), int64(1), object(5)\n",
      "memory usage: 1.2+ MB\n"
     ]
    }
   ],
   "source": [
    "df.info()"
   ]
  },
  {
   "cell_type": "markdown",
   "id": "f7f49868-7e33-42ad-8c0a-ae4d28d92b7f",
   "metadata": {},
   "source": [
    "### Cantidad de dinero que se presta cada mes.\n",
    "\n"
   ]
  },
  {
   "cell_type": "code",
   "execution_count": null,
   "id": "fb53e21a-d3c2-4efd-ab12-4146dceba6c3",
   "metadata": {},
   "outputs": [],
   "source": [
    "mask=\n",
    "df.groupby(grupomes).amount.sum()"
   ]
  },
  {
   "cell_type": "code",
   "execution_count": null,
   "id": "959f2d10-5b92-454c-b386-db9a4c0aeee8",
   "metadata": {},
   "outputs": [],
   "source": [
    "df.status == 'rejected'"
   ]
  }
 ],
 "metadata": {
  "kernelspec": {
   "display_name": "py38_ds",
   "language": "python",
   "name": "py38_ds"
  },
  "language_info": {
   "codemirror_mode": {
    "name": "ipython",
    "version": 3
   },
   "file_extension": ".py",
   "mimetype": "text/x-python",
   "name": "python",
   "nbconvert_exporter": "python",
   "pygments_lexer": "ipython3",
   "version": "3.8.10"
  }
 },
 "nbformat": 4,
 "nbformat_minor": 5
}
