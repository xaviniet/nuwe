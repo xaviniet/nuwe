{
 "cells": [
  {
   "cell_type": "markdown",
   "id": "bc4f8342-9ae8-47ea-834d-4cf363853f0a",
   "metadata": {},
   "source": [
    "# 🖥 RETO\n",
    "\n",
    "## Background\n",
    "\n",
    "Nuwefruit es una startup que busca revolucionar los hábitos de la población fomentando el cosumo de fruta a diario. Por este motivo, la empresa está especializada en la venta de fruta a domicilio, que gracias a su algoritmo de optimización de la última milla le permite tener unos costes logisticos muy bajos. Esto permite que Nuwefruit pueda vender fruta a un precio inferior al de su competencia. Su catálogo se basa en la venta de más de 20 tipos de frutas, que son las que presentan las mejores propiedades nutritivas.\n",
    "\n",
    "## Overview: the dataset and challenge\n",
    "\n",
    "Se emplearan dos datasets: el primero contiene datos de los clientes de Nuwefruit y el otro contiene los datos de los pedidos realizados por estos.\n",
    "\n",
    "El dataset de clientes 'CLIENT TABLE' contiene las siguientes variables:\n",
    "\n",
    "**CLIENT ID**: Identificador único del cliente\n",
    "**CLIENT_SEGMENT**: Segmento de clientes  \n",
    "**AVG CONSO**: Consumo medio mensual del cliente calculado a finales de 2020 (en piezas de fruta)  \n",
    "**AVG BASKET SIZE**: Tamaño medio de la cesta del cliente calculado a finales de 2020 (en piezas de fruta)  \n",
    "**RECEIVED_COMMUNICATION**: 1 = Recibió promoción de sus productos / 0 = no la recibió\n",
    "Haz click aquí para descargar 'CLIENT TABLE' dataset.\n",
    "\n",
    "El dataset de clientes 'ORDERS TABLE' contiene las siguientes variables:\n",
    "\n",
    "**CLIENT ID**: Identificador único del cliente  \n",
    "**NB PRODS**: Número de 'prods' de la variedad de fruta en el pedido (1 prod = 10 piezas de fruta)  \n",
    "**ORDER ID**: Identificador único del pedido  \n",
    "**FRUIT_PRODUCT**: Variedad de fruta  \n",
    "Haz click aquí para descargar 'ORDERS TABLE' dataset.\n",
    "\n",
    "## Objetivos\n",
    "\n",
    "- Haz un analisis exploratorio de los datos que permita:\n",
    "    - Analizar las ventas y la actividad de los clientes\n",
    "    - Evaluar el impacto de la promoción\n",
    "- Realiza un modelo predictivo que permita conocer el tipo de segmento al que pertenece cada cliente en función de las siguientes variables predictoras: Descargar test_x. (Se ha de predecir la variable (CLIENT_SEGMENT))."
   ]
  },
  {
   "cell_type": "code",
   "execution_count": 1,
   "id": "f28b93a2-60cb-489c-8285-2b05b80ad7b1",
   "metadata": {},
   "outputs": [],
   "source": [
    "import pandas as pd\n",
    "import numpy as np\n",
    "import matplotlib.pyplot as plt\n",
    "import seaborn as sns\n",
    "\n"
   ]
  },
  {
   "cell_type": "code",
   "execution_count": 2,
   "id": "2c1d20e4-33cc-4f7c-aba8-bcc882050b43",
   "metadata": {},
   "outputs": [],
   "source": [
    "SEED = 42"
   ]
  },
  {
   "cell_type": "code",
   "execution_count": 3,
   "id": "a3f28a1f-b455-4348-a359-4591d3191699",
   "metadata": {},
   "outputs": [],
   "source": [
    "PATH = './'\n"
   ]
  },
  {
   "cell_type": "code",
   "execution_count": 22,
   "id": "d18aaf52-40e8-4d85-9a11-6c8fff70c2a2",
   "metadata": {},
   "outputs": [],
   "source": [
    "clients = pd.read_csv(PATH+'mwc22-client_table.csv', decimal=',')\n",
    "orders = pd.read_csv(PATH+'mwc22-orders_table.csv', decimal=',')\n",
    "\n",
    "dftest = pd.read_csv(PATH+'mwc22-client_table+-+test_x.csv', decimal=',')"
   ]
  },
  {
   "cell_type": "code",
   "execution_count": 25,
   "id": "f4612dc3-d01e-4282-a127-450eae184d0e",
   "metadata": {},
   "outputs": [
    {
     "data": {
      "text/html": [
       "<div>\n",
       "<style scoped>\n",
       "    .dataframe tbody tr th:only-of-type {\n",
       "        vertical-align: middle;\n",
       "    }\n",
       "\n",
       "    .dataframe tbody tr th {\n",
       "        vertical-align: top;\n",
       "    }\n",
       "\n",
       "    .dataframe thead th {\n",
       "        text-align: right;\n",
       "    }\n",
       "</style>\n",
       "<table border=\"1\" class=\"dataframe\">\n",
       "  <thead>\n",
       "    <tr style=\"text-align: right;\">\n",
       "      <th></th>\n",
       "      <th>CLIENT ID</th>\n",
       "      <th>AVG CONSO</th>\n",
       "      <th>AVG BASKET SIZE</th>\n",
       "      <th>RECEIVED_COMMUNICATION</th>\n",
       "    </tr>\n",
       "  </thead>\n",
       "  <tbody>\n",
       "    <tr>\n",
       "      <th>0</th>\n",
       "      <td>48352078</td>\n",
       "      <td>8.33</td>\n",
       "      <td>100.00</td>\n",
       "      <td>0</td>\n",
       "    </tr>\n",
       "    <tr>\n",
       "      <th>1</th>\n",
       "      <td>18072186</td>\n",
       "      <td>93.42</td>\n",
       "      <td>186.83</td>\n",
       "      <td>1</td>\n",
       "    </tr>\n",
       "    <tr>\n",
       "      <th>2</th>\n",
       "      <td>48352246</td>\n",
       "      <td>45.83</td>\n",
       "      <td>137.50</td>\n",
       "      <td>0</td>\n",
       "    </tr>\n",
       "    <tr>\n",
       "      <th>3</th>\n",
       "      <td>18070621</td>\n",
       "      <td>16.67</td>\n",
       "      <td>200.00</td>\n",
       "      <td>1</td>\n",
       "    </tr>\n",
       "    <tr>\n",
       "      <th>4</th>\n",
       "      <td>48352262</td>\n",
       "      <td>13.33</td>\n",
       "      <td>160.00</td>\n",
       "      <td>0</td>\n",
       "    </tr>\n",
       "    <tr>\n",
       "      <th>5</th>\n",
       "      <td>48359553</td>\n",
       "      <td>16.67</td>\n",
       "      <td>200.00</td>\n",
       "      <td>0</td>\n",
       "    </tr>\n",
       "    <tr>\n",
       "      <th>6</th>\n",
       "      <td>18071647</td>\n",
       "      <td>8.33</td>\n",
       "      <td>100.00</td>\n",
       "      <td>1</td>\n",
       "    </tr>\n",
       "    <tr>\n",
       "      <th>7</th>\n",
       "      <td>48359574</td>\n",
       "      <td>54.17</td>\n",
       "      <td>162.50</td>\n",
       "      <td>0</td>\n",
       "    </tr>\n",
       "    <tr>\n",
       "      <th>8</th>\n",
       "      <td>48359627</td>\n",
       "      <td>26.67</td>\n",
       "      <td>106.67</td>\n",
       "      <td>0</td>\n",
       "    </tr>\n",
       "    <tr>\n",
       "      <th>9</th>\n",
       "      <td>18070505</td>\n",
       "      <td>166.67</td>\n",
       "      <td>333.33</td>\n",
       "      <td>1</td>\n",
       "    </tr>\n",
       "    <tr>\n",
       "      <th>10</th>\n",
       "      <td>18071016</td>\n",
       "      <td>145.00</td>\n",
       "      <td>290.00</td>\n",
       "      <td>1</td>\n",
       "    </tr>\n",
       "    <tr>\n",
       "      <th>11</th>\n",
       "      <td>18071198</td>\n",
       "      <td>230.83</td>\n",
       "      <td>230.83</td>\n",
       "      <td>1</td>\n",
       "    </tr>\n",
       "    <tr>\n",
       "      <th>12</th>\n",
       "      <td>18071233</td>\n",
       "      <td>85.92</td>\n",
       "      <td>343.67</td>\n",
       "      <td>1</td>\n",
       "    </tr>\n",
       "    <tr>\n",
       "      <th>13</th>\n",
       "      <td>18071524</td>\n",
       "      <td>7.50</td>\n",
       "      <td>45.00</td>\n",
       "      <td>1</td>\n",
       "    </tr>\n",
       "    <tr>\n",
       "      <th>14</th>\n",
       "      <td>18071668</td>\n",
       "      <td>154.83</td>\n",
       "      <td>109.29</td>\n",
       "      <td>1</td>\n",
       "    </tr>\n",
       "    <tr>\n",
       "      <th>15</th>\n",
       "      <td>18072476</td>\n",
       "      <td>33.33</td>\n",
       "      <td>400.00</td>\n",
       "      <td>1</td>\n",
       "    </tr>\n",
       "    <tr>\n",
       "      <th>16</th>\n",
       "      <td>48352272</td>\n",
       "      <td>25.00</td>\n",
       "      <td>150.00</td>\n",
       "      <td>0</td>\n",
       "    </tr>\n",
       "    <tr>\n",
       "      <th>17</th>\n",
       "      <td>18072741</td>\n",
       "      <td>158.42</td>\n",
       "      <td>211.22</td>\n",
       "      <td>1</td>\n",
       "    </tr>\n",
       "    <tr>\n",
       "      <th>18</th>\n",
       "      <td>18072797</td>\n",
       "      <td>110.83</td>\n",
       "      <td>133.00</td>\n",
       "      <td>1</td>\n",
       "    </tr>\n",
       "  </tbody>\n",
       "</table>\n",
       "</div>"
      ],
      "text/plain": [
       "    CLIENT ID  AVG CONSO  AVG BASKET SIZE  RECEIVED_COMMUNICATION\n",
       "0    48352078       8.33           100.00                       0\n",
       "1    18072186      93.42           186.83                       1\n",
       "2    48352246      45.83           137.50                       0\n",
       "3    18070621      16.67           200.00                       1\n",
       "4    48352262      13.33           160.00                       0\n",
       "5    48359553      16.67           200.00                       0\n",
       "6    18071647       8.33           100.00                       1\n",
       "7    48359574      54.17           162.50                       0\n",
       "8    48359627      26.67           106.67                       0\n",
       "9    18070505     166.67           333.33                       1\n",
       "10   18071016     145.00           290.00                       1\n",
       "11   18071198     230.83           230.83                       1\n",
       "12   18071233      85.92           343.67                       1\n",
       "13   18071524       7.50            45.00                       1\n",
       "14   18071668     154.83           109.29                       1\n",
       "15   18072476      33.33           400.00                       1\n",
       "16   48352272      25.00           150.00                       0\n",
       "17   18072741     158.42           211.22                       1\n",
       "18   18072797     110.83           133.00                       1"
      ]
     },
     "execution_count": 25,
     "metadata": {},
     "output_type": "execute_result"
    }
   ],
   "source": [
    "dftest"
   ]
  },
  {
   "cell_type": "code",
   "execution_count": 14,
   "id": "444dbaf0-e6a2-4e4f-a1ca-efb4df8a7659",
   "metadata": {},
   "outputs": [
    {
     "data": {
      "text/html": [
       "<div>\n",
       "<style scoped>\n",
       "    .dataframe tbody tr th:only-of-type {\n",
       "        vertical-align: middle;\n",
       "    }\n",
       "\n",
       "    .dataframe tbody tr th {\n",
       "        vertical-align: top;\n",
       "    }\n",
       "\n",
       "    .dataframe thead th {\n",
       "        text-align: right;\n",
       "    }\n",
       "</style>\n",
       "<table border=\"1\" class=\"dataframe\">\n",
       "  <thead>\n",
       "    <tr style=\"text-align: right;\">\n",
       "      <th></th>\n",
       "      <th>CLIENT ID</th>\n",
       "      <th>CLIENT_SEGMENT</th>\n",
       "      <th>AVG CONSO</th>\n",
       "      <th>AVG BASKET SIZE</th>\n",
       "      <th>RECEIVED_COMMUNICATION</th>\n",
       "    </tr>\n",
       "  </thead>\n",
       "  <tbody>\n",
       "    <tr>\n",
       "      <th>0</th>\n",
       "      <td>24321771</td>\n",
       "      <td>6</td>\n",
       "      <td>67.25</td>\n",
       "      <td>201.75</td>\n",
       "      <td>0</td>\n",
       "    </tr>\n",
       "    <tr>\n",
       "      <th>1</th>\n",
       "      <td>24321859</td>\n",
       "      <td>2</td>\n",
       "      <td>58.33</td>\n",
       "      <td>350.00</td>\n",
       "      <td>0</td>\n",
       "    </tr>\n",
       "    <tr>\n",
       "      <th>2</th>\n",
       "      <td>24321880</td>\n",
       "      <td>3</td>\n",
       "      <td>46.67</td>\n",
       "      <td>112.00</td>\n",
       "      <td>0</td>\n",
       "    </tr>\n",
       "    <tr>\n",
       "      <th>3</th>\n",
       "      <td>24321957</td>\n",
       "      <td>2</td>\n",
       "      <td>50.00</td>\n",
       "      <td>600.00</td>\n",
       "      <td>0</td>\n",
       "    </tr>\n",
       "    <tr>\n",
       "      <th>4</th>\n",
       "      <td>24321962</td>\n",
       "      <td>4</td>\n",
       "      <td>10.00</td>\n",
       "      <td>120.00</td>\n",
       "      <td>0</td>\n",
       "    </tr>\n",
       "  </tbody>\n",
       "</table>\n",
       "</div>"
      ],
      "text/plain": [
       "   CLIENT ID  CLIENT_SEGMENT  AVG CONSO  AVG BASKET SIZE  \\\n",
       "0   24321771               6      67.25           201.75   \n",
       "1   24321859               2      58.33           350.00   \n",
       "2   24321880               3      46.67           112.00   \n",
       "3   24321957               2      50.00           600.00   \n",
       "4   24321962               4      10.00           120.00   \n",
       "\n",
       "   RECEIVED_COMMUNICATION  \n",
       "0                       0  \n",
       "1                       0  \n",
       "2                       0  \n",
       "3                       0  \n",
       "4                       0  "
      ]
     },
     "execution_count": 14,
     "metadata": {},
     "output_type": "execute_result"
    }
   ],
   "source": [
    "clients.head()"
   ]
  },
  {
   "cell_type": "code",
   "execution_count": 20,
   "id": "2787980d-0402-4f77-8b15-52e33fe3d316",
   "metadata": {},
   "outputs": [
    {
     "name": "stdout",
     "output_type": "stream",
     "text": [
      "<class 'pandas.core.frame.DataFrame'>\n",
      "RangeIndex: 35884 entries, 0 to 35883\n",
      "Data columns (total 5 columns):\n",
      " #   Column                  Non-Null Count  Dtype  \n",
      "---  ------                  --------------  -----  \n",
      " 0   CLIENT ID               35884 non-null  int64  \n",
      " 1   CLIENT_SEGMENT          35884 non-null  int64  \n",
      " 2   AVG CONSO               35884 non-null  float64\n",
      " 3   AVG BASKET SIZE         35884 non-null  float64\n",
      " 4   RECEIVED_COMMUNICATION  35884 non-null  int64  \n",
      "dtypes: float64(2), int64(3)\n",
      "memory usage: 1.4 MB\n"
     ]
    }
   ],
   "source": [
    "clients.info()"
   ]
  },
  {
   "cell_type": "code",
   "execution_count": 21,
   "id": "54b141e1-aa8c-4039-845c-7d66a182cfe2",
   "metadata": {},
   "outputs": [
    {
     "data": {
      "text/plain": [
       "35884"
      ]
     },
     "execution_count": 21,
     "metadata": {},
     "output_type": "execute_result"
    }
   ],
   "source": [
    "clients['CLIENT ID'].nunique()"
   ]
  },
  {
   "cell_type": "code",
   "execution_count": 12,
   "id": "82bd73dc-bd56-447e-9366-cdb5d7820d7e",
   "metadata": {},
   "outputs": [
    {
     "data": {
      "text/plain": [
       "array(['Apple', 'Orange', 'Kiwi', 'Pear', 'Cheery', 'Watermelon',\n",
       "       'Strawberry', 'Nectarine', 'Grape', 'Mango', 'Blueberry',\n",
       "       'Pomegranate', 'Nuwe Fruit', 'Devil Fruit', 'Plum', 'Papaya',\n",
       "       'Jackfruit', 'Pineapple', 'Lemon', 'Lime', 'Apricot', 'Coconut',\n",
       "       'Melon', 'Banana'], dtype=object)"
      ]
     },
     "execution_count": 12,
     "metadata": {},
     "output_type": "execute_result"
    }
   ],
   "source": [
    "orders.FRUIT_PRODUCT.unique()"
   ]
  },
  {
   "cell_type": "code",
   "execution_count": 15,
   "id": "ebfaef5a-42ea-470d-90b6-1f7e67604111",
   "metadata": {},
   "outputs": [
    {
     "data": {
      "text/plain": [
       "3    8123\n",
       "4    7927\n",
       "2    6760\n",
       "1    6505\n",
       "5    3429\n",
       "6    3140\n",
       "Name: CLIENT_SEGMENT, dtype: int64"
      ]
     },
     "execution_count": 15,
     "metadata": {},
     "output_type": "execute_result"
    }
   ],
   "source": [
    "clients.CLIENT_SEGMENT.value_counts()"
   ]
  },
  {
   "cell_type": "code",
   "execution_count": 16,
   "id": "4b0f9354-2674-4e15-9ccf-b8acdf988f73",
   "metadata": {},
   "outputs": [
    {
     "data": {
      "text/html": [
       "<div>\n",
       "<style scoped>\n",
       "    .dataframe tbody tr th:only-of-type {\n",
       "        vertical-align: middle;\n",
       "    }\n",
       "\n",
       "    .dataframe tbody tr th {\n",
       "        vertical-align: top;\n",
       "    }\n",
       "\n",
       "    .dataframe thead th {\n",
       "        text-align: right;\n",
       "    }\n",
       "</style>\n",
       "<table border=\"1\" class=\"dataframe\">\n",
       "  <thead>\n",
       "    <tr style=\"text-align: right;\">\n",
       "      <th></th>\n",
       "      <th>CLIENT ID</th>\n",
       "      <th>NB PRODS</th>\n",
       "      <th>ORDER ID</th>\n",
       "      <th>FRUIT_PRODUCT</th>\n",
       "    </tr>\n",
       "  </thead>\n",
       "  <tbody>\n",
       "    <tr>\n",
       "      <th>0</th>\n",
       "      <td>18070505</td>\n",
       "      <td>5</td>\n",
       "      <td>671907264</td>\n",
       "      <td>Apple</td>\n",
       "    </tr>\n",
       "    <tr>\n",
       "      <th>1</th>\n",
       "      <td>18070505</td>\n",
       "      <td>10</td>\n",
       "      <td>671907264</td>\n",
       "      <td>Orange</td>\n",
       "    </tr>\n",
       "    <tr>\n",
       "      <th>2</th>\n",
       "      <td>18070505</td>\n",
       "      <td>5</td>\n",
       "      <td>671907264</td>\n",
       "      <td>Kiwi</td>\n",
       "    </tr>\n",
       "    <tr>\n",
       "      <th>3</th>\n",
       "      <td>18070505</td>\n",
       "      <td>10</td>\n",
       "      <td>671907264</td>\n",
       "      <td>Pear</td>\n",
       "    </tr>\n",
       "    <tr>\n",
       "      <th>4</th>\n",
       "      <td>18070505</td>\n",
       "      <td>5</td>\n",
       "      <td>671907264</td>\n",
       "      <td>Cheery</td>\n",
       "    </tr>\n",
       "  </tbody>\n",
       "</table>\n",
       "</div>"
      ],
      "text/plain": [
       "   CLIENT ID  NB PRODS   ORDER ID FRUIT_PRODUCT\n",
       "0   18070505         5  671907264         Apple\n",
       "1   18070505        10  671907264        Orange\n",
       "2   18070505         5  671907264          Kiwi\n",
       "3   18070505        10  671907264          Pear\n",
       "4   18070505         5  671907264        Cheery"
      ]
     },
     "execution_count": 16,
     "metadata": {},
     "output_type": "execute_result"
    }
   ],
   "source": [
    "orders.head()"
   ]
  },
  {
   "cell_type": "code",
   "execution_count": 19,
   "id": "618a0eb6-6124-4078-9a00-382eb530270b",
   "metadata": {},
   "outputs": [
    {
     "data": {
      "text/plain": [
       "14499"
      ]
     },
     "execution_count": 19,
     "metadata": {},
     "output_type": "execute_result"
    }
   ],
   "source": [
    "orders['CLIENT ID'].nunique()"
   ]
  },
  {
   "cell_type": "code",
   "execution_count": 27,
   "id": "d619886e-1699-4f91-9ca1-f1bc6b614f62",
   "metadata": {},
   "outputs": [
    {
     "data": {
      "text/plain": [
       "{2}"
      ]
     },
     "execution_count": 27,
     "metadata": {},
     "output_type": "execute_result"
    }
   ],
   "source": [
    "set([1,2,3]).intersection((2,4,5))"
   ]
  },
  {
   "cell_type": "code",
   "execution_count": 29,
   "id": "03e07b89-e2ea-422d-96d0-b45a6eee883a",
   "metadata": {},
   "outputs": [
    {
     "data": {
      "text/plain": [
       "set()"
      ]
     },
     "execution_count": 29,
     "metadata": {},
     "output_type": "execute_result"
    }
   ],
   "source": [
    "set(dftest['CLIENT ID']).intersection(set(clients['CLIENT ID']))"
   ]
  },
  {
   "cell_type": "code",
   "execution_count": 33,
   "id": "e2e47111-bcd5-49d5-8be8-5624fe500690",
   "metadata": {},
   "outputs": [],
   "source": [
    "from sklearn.preprocessing import StandardScaler\n",
    "from sklearn.metrics import f1_score\n",
    "from sklearn.model_selection import RepeatedKFold, train_test_split\n",
    "\n",
    "from lightgbm import LGBMClassifier"
   ]
  },
  {
   "cell_type": "code",
   "execution_count": 35,
   "id": "099ea369-8031-4d78-b609-d6ce317191d0",
   "metadata": {},
   "outputs": [],
   "source": [
    "clf = LGBMClassifier()\n",
    "\n",
    "train_cols = ['AVG CONSO', 'AVG BASKET SIZE', 'RECEIVED_COMMUNICATION']\n",
    "target = ['CLIENT_SEGMENT']"
   ]
  },
  {
   "cell_type": "code",
   "execution_count": 36,
   "id": "965d59fc-c26c-4583-8be4-f61cb859000e",
   "metadata": {},
   "outputs": [],
   "source": [
    "X_train, X_val, y_train, y_val = train_test_split(clients[train_cols],clients[target])"
   ]
  },
  {
   "cell_type": "code",
   "execution_count": 37,
   "id": "25654f82-a701-49b8-b43a-687f97f7519b",
   "metadata": {},
   "outputs": [
    {
     "data": {
      "text/plain": [
       "((26913, 3), (8971, 3), (26913, 1), (8971, 1))"
      ]
     },
     "execution_count": 37,
     "metadata": {},
     "output_type": "execute_result"
    }
   ],
   "source": [
    "X_train.shape, X_val.shape, y_train.shape, y_val.shape"
   ]
  },
  {
   "cell_type": "code",
   "execution_count": 38,
   "id": "79f5ccbf-799a-41e6-b08f-24ddebce8304",
   "metadata": {},
   "outputs": [],
   "source": [
    "# from https://www.kaggle.com/mlisovyi/feature-engineering-lighgbm-with-f1-macro\n",
    "\n",
    "def evaluate_macroF1_lgb(truth, predictions):  \n",
    "    # this follows the discussion in https://github.com/Microsoft/LightGBM/issues/1483\n",
    "    pred_labels = predictions.reshape(len(np.unique(truth)),-1).argmax(axis=0)\n",
    "    f1 = f1_score(truth, pred_labels, average='macro')\n",
    "    return ('macroF1', f1, True) \n"
   ]
  },
  {
   "cell_type": "code",
   "execution_count": 39,
   "id": "c1c5b5c5-2abf-440a-8522-77354dcd5eb6",
   "metadata": {
    "collapsed": true,
    "jupyter": {
     "outputs_hidden": true
    },
    "tags": []
   },
   "outputs": [
    {
     "name": "stderr",
     "output_type": "stream",
     "text": [
      "/opt/homebrew/Caskroom/miniforge/base/envs/py38_ds/lib/python3.8/site-packages/sklearn/preprocessing/_label.py:98: DataConversionWarning: A column-vector y was passed when a 1d array was expected. Please change the shape of y to (n_samples, ), for example using ravel().\n",
      "  y = column_or_1d(y, warn=True)\n",
      "/opt/homebrew/Caskroom/miniforge/base/envs/py38_ds/lib/python3.8/site-packages/sklearn/preprocessing/_label.py:133: DataConversionWarning: A column-vector y was passed when a 1d array was expected. Please change the shape of y to (n_samples, ), for example using ravel().\n",
      "  y = column_or_1d(y, warn=True)\n"
     ]
    },
    {
     "name": "stdout",
     "output_type": "stream",
     "text": [
      "[1]\tvalid_0's multi_logloss: 1.46134\tvalid_0's macroF1: 0.536678\n",
      "[2]\tvalid_0's multi_logloss: 1.2847\tvalid_0's macroF1: 0.674335\n",
      "[3]\tvalid_0's multi_logloss: 1.15508\tvalid_0's macroF1: 0.690988\n",
      "[4]\tvalid_0's multi_logloss: 1.05335\tvalid_0's macroF1: 0.696072\n",
      "[5]\tvalid_0's multi_logloss: 0.972688\tvalid_0's macroF1: 0.696486\n",
      "[6]\tvalid_0's multi_logloss: 0.907731\tvalid_0's macroF1: 0.696505\n",
      "[7]\tvalid_0's multi_logloss: 0.854155\tvalid_0's macroF1: 0.696498\n",
      "[8]\tvalid_0's multi_logloss: 0.809815\tvalid_0's macroF1: 0.696806\n",
      "[9]\tvalid_0's multi_logloss: 0.772807\tvalid_0's macroF1: 0.697455\n",
      "[10]\tvalid_0's multi_logloss: 0.741681\tvalid_0's macroF1: 0.697106\n",
      "[11]\tvalid_0's multi_logloss: 0.715476\tvalid_0's macroF1: 0.697367\n",
      "[12]\tvalid_0's multi_logloss: 0.693426\tvalid_0's macroF1: 0.697804\n",
      "[13]\tvalid_0's multi_logloss: 0.674508\tvalid_0's macroF1: 0.697374\n",
      "[14]\tvalid_0's multi_logloss: 0.658416\tvalid_0's macroF1: 0.698225\n",
      "[15]\tvalid_0's multi_logloss: 0.644683\tvalid_0's macroF1: 0.697877\n",
      "[16]\tvalid_0's multi_logloss: 0.63294\tvalid_0's macroF1: 0.69801\n",
      "[17]\tvalid_0's multi_logloss: 0.622827\tvalid_0's macroF1: 0.698034\n",
      "[18]\tvalid_0's multi_logloss: 0.614187\tvalid_0's macroF1: 0.698616\n",
      "[19]\tvalid_0's multi_logloss: 0.606498\tvalid_0's macroF1: 0.698465\n",
      "[20]\tvalid_0's multi_logloss: 0.600075\tvalid_0's macroF1: 0.698465\n",
      "[21]\tvalid_0's multi_logloss: 0.594315\tvalid_0's macroF1: 0.698902\n",
      "[22]\tvalid_0's multi_logloss: 0.589256\tvalid_0's macroF1: 0.698902\n",
      "[23]\tvalid_0's multi_logloss: 0.584607\tvalid_0's macroF1: 0.698833\n",
      "[24]\tvalid_0's multi_logloss: 0.580613\tvalid_0's macroF1: 0.698757\n",
      "[25]\tvalid_0's multi_logloss: 0.577281\tvalid_0's macroF1: 0.698839\n",
      "[26]\tvalid_0's multi_logloss: 0.574456\tvalid_0's macroF1: 0.69876\n",
      "[27]\tvalid_0's multi_logloss: 0.571551\tvalid_0's macroF1: 0.698881\n",
      "[28]\tvalid_0's multi_logloss: 0.569037\tvalid_0's macroF1: 0.698574\n",
      "[29]\tvalid_0's multi_logloss: 0.566673\tvalid_0's macroF1: 0.698574\n",
      "[30]\tvalid_0's multi_logloss: 0.56472\tvalid_0's macroF1: 0.699097\n",
      "[31]\tvalid_0's multi_logloss: 0.562895\tvalid_0's macroF1: 0.69903\n",
      "[32]\tvalid_0's multi_logloss: 0.56129\tvalid_0's macroF1: 0.699112\n",
      "[33]\tvalid_0's multi_logloss: 0.559775\tvalid_0's macroF1: 0.699077\n",
      "[34]\tvalid_0's multi_logloss: 0.558422\tvalid_0's macroF1: 0.698637\n",
      "[35]\tvalid_0's multi_logloss: 0.557288\tvalid_0's macroF1: 0.698728\n",
      "[36]\tvalid_0's multi_logloss: 0.556096\tvalid_0's macroF1: 0.698413\n",
      "[37]\tvalid_0's multi_logloss: 0.555261\tvalid_0's macroF1: 0.698325\n",
      "[38]\tvalid_0's multi_logloss: 0.554392\tvalid_0's macroF1: 0.698112\n",
      "[39]\tvalid_0's multi_logloss: 0.553552\tvalid_0's macroF1: 0.69833\n",
      "[40]\tvalid_0's multi_logloss: 0.552661\tvalid_0's macroF1: 0.698397\n",
      "[41]\tvalid_0's multi_logloss: 0.551941\tvalid_0's macroF1: 0.698315\n",
      "[42]\tvalid_0's multi_logloss: 0.551484\tvalid_0's macroF1: 0.698077\n",
      "[43]\tvalid_0's multi_logloss: 0.550904\tvalid_0's macroF1: 0.697394\n",
      "[44]\tvalid_0's multi_logloss: 0.550525\tvalid_0's macroF1: 0.697666\n",
      "[45]\tvalid_0's multi_logloss: 0.550076\tvalid_0's macroF1: 0.697501\n",
      "[46]\tvalid_0's multi_logloss: 0.549553\tvalid_0's macroF1: 0.697501\n",
      "[47]\tvalid_0's multi_logloss: 0.549339\tvalid_0's macroF1: 0.697568\n",
      "[48]\tvalid_0's multi_logloss: 0.549161\tvalid_0's macroF1: 0.697932\n",
      "[49]\tvalid_0's multi_logloss: 0.548907\tvalid_0's macroF1: 0.69835\n",
      "[50]\tvalid_0's multi_logloss: 0.548648\tvalid_0's macroF1: 0.69835\n",
      "[51]\tvalid_0's multi_logloss: 0.548395\tvalid_0's macroF1: 0.698135\n",
      "[52]\tvalid_0's multi_logloss: 0.548123\tvalid_0's macroF1: 0.697852\n",
      "[53]\tvalid_0's multi_logloss: 0.548018\tvalid_0's macroF1: 0.697865\n",
      "[54]\tvalid_0's multi_logloss: 0.547706\tvalid_0's macroF1: 0.697868\n",
      "[55]\tvalid_0's multi_logloss: 0.547721\tvalid_0's macroF1: 0.697515\n",
      "[56]\tvalid_0's multi_logloss: 0.547743\tvalid_0's macroF1: 0.697356\n",
      "[57]\tvalid_0's multi_logloss: 0.547657\tvalid_0's macroF1: 0.697289\n",
      "[58]\tvalid_0's multi_logloss: 0.547652\tvalid_0's macroF1: 0.697289\n",
      "[59]\tvalid_0's multi_logloss: 0.547688\tvalid_0's macroF1: 0.696923\n",
      "[60]\tvalid_0's multi_logloss: 0.547696\tvalid_0's macroF1: 0.697179\n",
      "[61]\tvalid_0's multi_logloss: 0.547749\tvalid_0's macroF1: 0.697349\n",
      "[62]\tvalid_0's multi_logloss: 0.547709\tvalid_0's macroF1: 0.698872\n",
      "[63]\tvalid_0's multi_logloss: 0.547811\tvalid_0's macroF1: 0.698758\n",
      "[64]\tvalid_0's multi_logloss: 0.547899\tvalid_0's macroF1: 0.698941\n",
      "[65]\tvalid_0's multi_logloss: 0.547782\tvalid_0's macroF1: 0.698873\n",
      "[66]\tvalid_0's multi_logloss: 0.547955\tvalid_0's macroF1: 0.698859\n",
      "[67]\tvalid_0's multi_logloss: 0.547886\tvalid_0's macroF1: 0.69863\n",
      "[68]\tvalid_0's multi_logloss: 0.547882\tvalid_0's macroF1: 0.69863\n",
      "[69]\tvalid_0's multi_logloss: 0.547986\tvalid_0's macroF1: 0.699257\n",
      "[70]\tvalid_0's multi_logloss: 0.548056\tvalid_0's macroF1: 0.699453\n",
      "[71]\tvalid_0's multi_logloss: 0.548156\tvalid_0's macroF1: 0.699384\n",
      "[72]\tvalid_0's multi_logloss: 0.548237\tvalid_0's macroF1: 0.699738\n",
      "[73]\tvalid_0's multi_logloss: 0.548357\tvalid_0's macroF1: 0.699811\n",
      "[74]\tvalid_0's multi_logloss: 0.548479\tvalid_0's macroF1: 0.699811\n",
      "[75]\tvalid_0's multi_logloss: 0.548649\tvalid_0's macroF1: 0.699758\n",
      "[76]\tvalid_0's multi_logloss: 0.548722\tvalid_0's macroF1: 0.700458\n",
      "[77]\tvalid_0's multi_logloss: 0.548843\tvalid_0's macroF1: 0.70054\n",
      "[78]\tvalid_0's multi_logloss: 0.54909\tvalid_0's macroF1: 0.700763\n",
      "[79]\tvalid_0's multi_logloss: 0.549395\tvalid_0's macroF1: 0.70025\n",
      "[80]\tvalid_0's multi_logloss: 0.549464\tvalid_0's macroF1: 0.699344\n",
      "[81]\tvalid_0's multi_logloss: 0.549656\tvalid_0's macroF1: 0.699344\n",
      "[82]\tvalid_0's multi_logloss: 0.549829\tvalid_0's macroF1: 0.699529\n",
      "[83]\tvalid_0's multi_logloss: 0.549989\tvalid_0's macroF1: 0.699158\n",
      "[84]\tvalid_0's multi_logloss: 0.550109\tvalid_0's macroF1: 0.699226\n",
      "[85]\tvalid_0's multi_logloss: 0.550214\tvalid_0's macroF1: 0.700227\n",
      "[86]\tvalid_0's multi_logloss: 0.550363\tvalid_0's macroF1: 0.700236\n",
      "[87]\tvalid_0's multi_logloss: 0.550505\tvalid_0's macroF1: 0.700063\n",
      "[88]\tvalid_0's multi_logloss: 0.550673\tvalid_0's macroF1: 0.699708\n",
      "[89]\tvalid_0's multi_logloss: 0.550922\tvalid_0's macroF1: 0.69971\n",
      "[90]\tvalid_0's multi_logloss: 0.551029\tvalid_0's macroF1: 0.69968\n",
      "[91]\tvalid_0's multi_logloss: 0.551163\tvalid_0's macroF1: 0.69968\n",
      "[92]\tvalid_0's multi_logloss: 0.551405\tvalid_0's macroF1: 0.69974\n",
      "[93]\tvalid_0's multi_logloss: 0.551525\tvalid_0's macroF1: 0.69974\n",
      "[94]\tvalid_0's multi_logloss: 0.551675\tvalid_0's macroF1: 0.699659\n",
      "[95]\tvalid_0's multi_logloss: 0.551936\tvalid_0's macroF1: 0.699636\n",
      "[96]\tvalid_0's multi_logloss: 0.552068\tvalid_0's macroF1: 0.699461\n",
      "[97]\tvalid_0's multi_logloss: 0.552153\tvalid_0's macroF1: 0.699297\n",
      "[98]\tvalid_0's multi_logloss: 0.552362\tvalid_0's macroF1: 0.699314\n",
      "[99]\tvalid_0's multi_logloss: 0.552569\tvalid_0's macroF1: 0.698961\n",
      "[100]\tvalid_0's multi_logloss: 0.552676\tvalid_0's macroF1: 0.698961\n"
     ]
    },
    {
     "data": {
      "text/plain": [
       "LGBMClassifier()"
      ]
     },
     "execution_count": 39,
     "metadata": {},
     "output_type": "execute_result"
    }
   ],
   "source": [
    "clf.fit(X_train, y_train, eval_set=(X_val, y_val), eval_metric=evaluate_macroF1_lgb)"
   ]
  },
  {
   "cell_type": "code",
   "execution_count": 40,
   "id": "c605e529-675c-45ca-8fe5-01357efc4907",
   "metadata": {},
   "outputs": [
    {
     "data": {
      "text/plain": [
       "Index(['CLIENT ID', 'CLIENT_SEGMENT', 'AVG CONSO', 'AVG BASKET SIZE',\n",
       "       'RECEIVED_COMMUNICATION'],\n",
       "      dtype='object')"
      ]
     },
     "execution_count": 40,
     "metadata": {},
     "output_type": "execute_result"
    }
   ],
   "source": [
    "clients.columns"
   ]
  },
  {
   "cell_type": "code",
   "execution_count": 45,
   "id": "0d67724b-bbb5-49a9-9377-6209ba43ddd3",
   "metadata": {},
   "outputs": [
    {
     "data": {
      "image/png": "[encoded data removed]",
      "text/plain": [
       "<Figure size 1080x720 with 1 Axes>"
      ]
     },
     "metadata": {
      "needs_background": "light"
     },
     "output_type": "display_data"
    }
   ],
   "source": [
    "plt.figure(figsize=(15,10))\n",
    "g = sns.scatterplot(data=clients, x='AVG CONSO', y='AVG BASKET SIZE', \n",
    "                    hue='RECEIVED_COMMUNICATION', alpha=0.4)"
   ]
  },
  {
   "cell_type": "code",
   "execution_count": 47,
   "id": "b1b2d6f4-a065-436e-bf5f-60d1d0d0fbdc",
   "metadata": {},
   "outputs": [
    {
     "data": {
      "text/plain": [
       "<AxesSubplot:xlabel='RECEIVED_COMMUNICATION', ylabel='AVG BASKET SIZE'>"
      ]
     },
     "execution_count": 47,
     "metadata": {},
     "output_type": "execute_result"
    },
    {
     "data": {
      "image/png": "[encoded data removed]",
      "text/plain": [
       "<Figure size 432x288 with 1 Axes>"
      ]
     },
     "metadata": {
      "needs_background": "light"
     },
     "output_type": "display_data"
    }
   ],
   "source": [
    "sns.boxplot(data=clients, x='RECEIVED_COMMUNICATION', y='AVG BASKET SIZE')"
   ]
  }
 ],
 "metadata": {
  "kernelspec": {
   "display_name": "py38_ds",
   "language": "python",
   "name": "py38_ds"
  },
  "language_info": {
   "codemirror_mode": {
    "name": "ipython",
    "version": 3
   },
   "file_extension": ".py",
   "mimetype": "text/x-python",
   "name": "python",
   "nbconvert_exporter": "python",
   "pygments_lexer": "ipython3",
   "version": "3.8.10"
  }
 },
 "nbformat": 4,
 "nbformat_minor": 5
}
