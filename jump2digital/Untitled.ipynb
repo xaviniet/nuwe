{
 "cells": [
  {
   "cell_type": "code",
   "execution_count": 5,
   "id": "79d40582-001f-4b94-af05-dcdeb54284dc",
   "metadata": {},
   "outputs": [],
   "source": [
    "import pandas as pd\n",
    "import numpy as np\n",
    "\n",
    "import matplotlib.pyplot as plt\n",
    "import seaborn as sns"
   ]
  },
  {
   "cell_type": "code",
   "execution_count": 6,
   "id": "43fb8c29-46ad-424b-ab64-b79fa56c0977",
   "metadata": {},
   "outputs": [],
   "source": [
    "dftrain = pd.read_csv('train.csv', index_col=0)"
   ]
  },
  {
   "cell_type": "code",
   "execution_count": 7,
   "id": "a5a95059-dd6b-4f82-a035-15884f1a15e6",
   "metadata": {},
   "outputs": [
    {
     "data": {
      "text/html": [
       "<div>\n",
       "<style scoped>\n",
       "    .dataframe tbody tr th:only-of-type {\n",
       "        vertical-align: middle;\n",
       "    }\n",
       "\n",
       "    .dataframe tbody tr th {\n",
       "        vertical-align: top;\n",
       "    }\n",
       "\n",
       "    .dataframe thead th {\n",
       "        text-align: right;\n",
       "    }\n",
       "</style>\n",
       "<table border=\"1\" class=\"dataframe\">\n",
       "  <thead>\n",
       "    <tr style=\"text-align: right;\">\n",
       "      <th></th>\n",
       "      <th>local_time</th>\n",
       "      <th>country_code</th>\n",
       "      <th>store_address</th>\n",
       "      <th>payment_status</th>\n",
       "      <th>n_of_products</th>\n",
       "      <th>products_total</th>\n",
       "      <th>final_status</th>\n",
       "    </tr>\n",
       "    <tr>\n",
       "      <th>order_id</th>\n",
       "      <th></th>\n",
       "      <th></th>\n",
       "      <th></th>\n",
       "      <th></th>\n",
       "      <th></th>\n",
       "      <th></th>\n",
       "      <th></th>\n",
       "    </tr>\n",
       "  </thead>\n",
       "  <tbody>\n",
       "    <tr>\n",
       "      <th>33446280</th>\n",
       "      <td>14:11:09</td>\n",
       "      <td>AR</td>\n",
       "      <td>55379</td>\n",
       "      <td>PAID</td>\n",
       "      <td>2</td>\n",
       "      <td>11.88</td>\n",
       "      <td>DeliveredStatus</td>\n",
       "    </tr>\n",
       "    <tr>\n",
       "      <th>33107339</th>\n",
       "      <td>11:47:41</td>\n",
       "      <td>GT</td>\n",
       "      <td>23487</td>\n",
       "      <td>PAID</td>\n",
       "      <td>2</td>\n",
       "      <td>5.20</td>\n",
       "      <td>DeliveredStatus</td>\n",
       "    </tr>\n",
       "    <tr>\n",
       "      <th>32960645</th>\n",
       "      <td>11:53:53</td>\n",
       "      <td>CR</td>\n",
       "      <td>62229</td>\n",
       "      <td>PAID</td>\n",
       "      <td>1</td>\n",
       "      <td>6.03</td>\n",
       "      <td>DeliveredStatus</td>\n",
       "    </tr>\n",
       "    <tr>\n",
       "      <th>32089564</th>\n",
       "      <td>20:15:21</td>\n",
       "      <td>ES</td>\n",
       "      <td>29446</td>\n",
       "      <td>PAID</td>\n",
       "      <td>6</td>\n",
       "      <td>6.37</td>\n",
       "      <td>DeliveredStatus</td>\n",
       "    </tr>\n",
       "    <tr>\n",
       "      <th>32157739</th>\n",
       "      <td>21:32:16</td>\n",
       "      <td>AR</td>\n",
       "      <td>13917</td>\n",
       "      <td>PAID</td>\n",
       "      <td>1</td>\n",
       "      <td>5.36</td>\n",
       "      <td>CanceledStatus</td>\n",
       "    </tr>\n",
       "  </tbody>\n",
       "</table>\n",
       "</div>"
      ],
      "text/plain": [
       "         local_time country_code  store_address payment_status  n_of_products  \\\n",
       "order_id                                                                        \n",
       "33446280   14:11:09           AR          55379           PAID              2   \n",
       "33107339   11:47:41           GT          23487           PAID              2   \n",
       "32960645   11:53:53           CR          62229           PAID              1   \n",
       "32089564   20:15:21           ES          29446           PAID              6   \n",
       "32157739   21:32:16           AR          13917           PAID              1   \n",
       "\n",
       "          products_total     final_status  \n",
       "order_id                                   \n",
       "33446280           11.88  DeliveredStatus  \n",
       "33107339            5.20  DeliveredStatus  \n",
       "32960645            6.03  DeliveredStatus  \n",
       "32089564            6.37  DeliveredStatus  \n",
       "32157739            5.36   CanceledStatus  "
      ]
     },
     "execution_count": 7,
     "metadata": {},
     "output_type": "execute_result"
    }
   ],
   "source": [
    "dftrain.head()"
   ]
  },
  {
   "cell_type": "code",
   "execution_count": 8,
   "id": "91805ff4-822e-40b6-a2ec-1543f5ecf7e2",
   "metadata": {},
   "outputs": [
    {
     "name": "stdout",
     "output_type": "stream",
     "text": [
      "<class 'pandas.core.frame.DataFrame'>\n",
      "Int64Index: 54330 entries, 33446280 to 32695191\n",
      "Data columns (total 7 columns):\n",
      " #   Column          Non-Null Count  Dtype  \n",
      "---  ------          --------------  -----  \n",
      " 0   local_time      54330 non-null  object \n",
      " 1   country_code    54330 non-null  object \n",
      " 2   store_address   54330 non-null  int64  \n",
      " 3   payment_status  54330 non-null  object \n",
      " 4   n_of_products   54330 non-null  int64  \n",
      " 5   products_total  54330 non-null  float64\n",
      " 6   final_status    54330 non-null  object \n",
      "dtypes: float64(1), int64(2), object(4)\n",
      "memory usage: 3.3+ MB\n"
     ]
    }
   ],
   "source": [
    "dftrain.info()"
   ]
  },
  {
   "cell_type": "code",
   "execution_count": 9,
   "id": "20d1e2dc-3e24-4500-bcfc-2a06a46ef5d1",
   "metadata": {},
   "outputs": [],
   "source": [
    "dftrain['local_time'] = pd.to_datetime(dftrain.local_time)"
   ]
  },
  {
   "cell_type": "code",
   "execution_count": 10,
   "id": "11da817b-49a5-4b27-afa7-dfc6a3e2d998",
   "metadata": {},
   "outputs": [
    {
     "data": {
      "text/plain": [
       "local_time        32905\n",
       "country_code         23\n",
       "store_address      5627\n",
       "payment_status        3\n",
       "n_of_products        27\n",
       "products_total     3904\n",
       "final_status          2\n",
       "dtype: int64"
      ]
     },
     "execution_count": 10,
     "metadata": {},
     "output_type": "execute_result"
    }
   ],
   "source": [
    "dftrain.nunique()"
   ]
  },
  {
   "cell_type": "markdown",
   "id": "d9750841-1903-4b17-bbb7-775cd3ab0c52",
   "metadata": {},
   "source": [
    "Numéricas: \n",
    "- n_of_products\n",
    "- products_total \n",
    "\n",
    "Categóricas: \n",
    "- country_code\n",
    "- store_address\n",
    "- payment_status  \n",
    "\n",
    "Fecha:\n",
    "- local_time\n",
    "\n",
    "y:\n",
    "- final_status"
   ]
  },
  {
   "cell_type": "code",
   "execution_count": 11,
   "id": "cb68b795-2779-4c94-be31-76447550f80d",
   "metadata": {},
   "outputs": [],
   "source": [
    "cat_cols = ['country_code', 'store_address','payment_status']\n",
    "num_cols = ['n_of_products', 'products_total']\n",
    "date_cols = ['local_time']\n",
    "target = ['final_status']"
   ]
  },
  {
   "cell_type": "code",
   "execution_count": 12,
   "id": "fa530f90-ac72-4c5f-b9ad-2903c3b5d5f5",
   "metadata": {},
   "outputs": [
    {
     "data": {
      "text/plain": [
       "DeliveredStatus    48498\n",
       "CanceledStatus      5832\n",
       "Name: final_status, dtype: int64"
      ]
     },
     "execution_count": 12,
     "metadata": {},
     "output_type": "execute_result"
    }
   ],
   "source": [
    "dftrain.final_status.value_counts()"
   ]
  },
  {
   "cell_type": "code",
   "execution_count": 13,
   "id": "54c88a68-6c6c-4908-bf87-560494d0773d",
   "metadata": {},
   "outputs": [],
   "source": [
    "target_map = {k:v for v,k in enumerate(dftrain.final_status.unique())}"
   ]
  },
  {
   "cell_type": "code",
   "execution_count": 14,
   "id": "8072f41e-aa18-4e73-a930-fe9a88036ec0",
   "metadata": {},
   "outputs": [
    {
     "data": {
      "text/plain": [
       "<AxesSubplot:xlabel='n_of_products', ylabel='Count'>"
      ]
     },
     "execution_count": 14,
     "metadata": {},
     "output_type": "execute_result"
    },
    {
     "data": {
      "image/png": "[encoded data removed]",
      "text/plain": [
       "<Figure size 432x288 with 1 Axes>"
      ]
     },
     "metadata": {
      "needs_background": "light"
     },
     "output_type": "display_data"
    }
   ],
   "source": [
    "sns.histplot(data=dftrain, x='n_of_products', color='blue', \n",
    "             hue='final_status', bins=40)"
   ]
  },
  {
   "cell_type": "markdown",
   "id": "efab9058-8cc0-45e3-9c67-2a354f7f4da0",
   "metadata": {},
   "source": [
    "### 1. ¿Cuáles son los 3 paises en los que más pedidos se realizan?\n",
    "\n"
   ]
  },
  {
   "cell_type": "code",
   "execution_count": 15,
   "id": "d41f29d3-88ce-48c4-ae0a-b87831610335",
   "metadata": {},
   "outputs": [
    {
     "data": {
      "text/plain": [
       "country_code\n",
       "AR    11854\n",
       "ES    11554\n",
       "TR     5696\n",
       "Name: store_address, dtype: int64"
      ]
     },
     "execution_count": 15,
     "metadata": {},
     "output_type": "execute_result"
    }
   ],
   "source": [
    "dftrain.groupby(by='country_code').store_address.count().sort_values(ascending=False).head(3)"
   ]
  },
  {
   "cell_type": "markdown",
   "id": "d883620f-1853-444c-afd9-36e038749098",
   "metadata": {},
   "source": [
    "### 2. ¿Cuáles son las horas en las que se realizan más pedidos en España?\n"
   ]
  },
  {
   "cell_type": "code",
   "execution_count": 16,
   "id": "8ad2a74b-d123-4f7c-9d9a-2181962c0389",
   "metadata": {},
   "outputs": [
    {
     "name": "stdout",
     "output_type": "stream",
     "text": [
      "<class 'pandas.core.frame.DataFrame'>\n",
      "Int64Index: 54330 entries, 33446280 to 32695191\n",
      "Data columns (total 7 columns):\n",
      " #   Column          Non-Null Count  Dtype         \n",
      "---  ------          --------------  -----         \n",
      " 0   local_time      54330 non-null  datetime64[ns]\n",
      " 1   country_code    54330 non-null  object        \n",
      " 2   store_address   54330 non-null  int64         \n",
      " 3   payment_status  54330 non-null  object        \n",
      " 4   n_of_products   54330 non-null  int64         \n",
      " 5   products_total  54330 non-null  float64       \n",
      " 6   final_status    54330 non-null  object        \n",
      "dtypes: datetime64[ns](1), float64(1), int64(2), object(3)\n",
      "memory usage: 3.3+ MB\n"
     ]
    }
   ],
   "source": [
    "dftrain.info()"
   ]
  },
  {
   "cell_type": "code",
   "execution_count": 17,
   "id": "ed6837ed-d18e-4ed5-9157-4450700d607d",
   "metadata": {},
   "outputs": [
    {
     "data": {
      "text/plain": [
       "local_time\n",
       "2021-11-28 20:00:00    1716\n",
       "2021-11-28 21:00:00    1155\n",
       "2021-11-28 19:00:00    1128\n",
       "2021-11-28 13:00:00    1047\n",
       "2021-11-28 14:00:00     956\n",
       "Name: store_address, dtype: int64"
      ]
     },
     "execution_count": 17,
     "metadata": {},
     "output_type": "execute_result"
    }
   ],
   "source": [
    "mask = dftrain.country_code == 'ES'\n",
    "\n",
    "dftrain[mask].groupby(pd.Grouper(key='local_time',freq='h'))\\\n",
    "                .store_address.count()\\\n",
    "                .sort_values(ascending=False)\\\n",
    "                .head(5)"
   ]
  },
  {
   "cell_type": "markdown",
   "id": "4fd55c93-aa6d-4e95-b7dd-bf38f9958dd5",
   "metadata": {},
   "source": [
    "### 3. ¿Cuál es el precio medio por pedido en la tienda con ID 12513? \n"
   ]
  },
  {
   "cell_type": "code",
   "execution_count": 18,
   "id": "84f9fe64-1b9f-4f08-ae20-6f173416a207",
   "metadata": {},
   "outputs": [
    {
     "data": {
      "text/plain": [
       "17.392244897959184"
      ]
     },
     "execution_count": 18,
     "metadata": {},
     "output_type": "execute_result"
    }
   ],
   "source": [
    "mask = dftrain.store_address == 12513\n",
    "dftrain[mask].products_total.mean()"
   ]
  },
  {
   "cell_type": "markdown",
   "id": "a5a75c92-4bea-4b05-bad7-1249ccf0b1b5",
   "metadata": {},
   "source": [
    "### 4. Teniendo en cuenta los picos de demanda en España, si los repartidores trabajan en turnos de 8horas.  \n",
    "Turno 1 (00:00-08:00)  \n",
    "Turno 2 (08:00-16:00)  \n",
    "Turno 3 (16:00-00:00)  \n",
    "Qué porcentaje de repartidores pondrías por cada turno para que sean capaces de hacer frente a los picos de demanda. (ej: Turno 1 el 30%, Turno 2 el 10% y Turno 3 el 60%)."
   ]
  },
  {
   "cell_type": "code",
   "execution_count": 19,
   "id": "568005b6-0002-42bd-abf8-2be4bcf862f3",
   "metadata": {},
   "outputs": [
    {
     "data": {
      "text/plain": [
       "local_time\n",
       "2021-11-28 00:00:00    0.001212\n",
       "2021-11-28 08:00:00    0.388350\n",
       "2021-11-28 16:00:00    0.610438\n",
       "Freq: 8H, Name: store_address, dtype: float64"
      ]
     },
     "execution_count": 19,
     "metadata": {},
     "output_type": "execute_result"
    }
   ],
   "source": [
    "mask = dftrain.country_code == 'ES'\n",
    "dftrain[mask].groupby(pd.Grouper(key='local_time',freq='8h')).store_address.count() / dftrain[mask].store_address.count()"
   ]
  },
  {
   "cell_type": "markdown",
   "id": "c4ffda29-bad7-45a8-81c3-d72ef88ebd96",
   "metadata": {},
   "source": [
    "Considerar que hablamos de todo el territorio, con lo que, teniendo en cuenta los turno, el número de tiendas y desconocemos cuantos repartidores hay, estos valores son aproximados (y hay que considerar un mínimo de repartidores en las tiendas que tienen actividad en el primer turno)"
   ]
  },
  {
   "cell_type": "code",
   "execution_count": 20,
   "id": "89ca0e27-0986-4d50-8706-536afb03f515",
   "metadata": {},
   "outputs": [
    {
     "data": {
      "text/plain": [
       "local_time\n",
       "2021-11-28 00:00:00      4\n",
       "2021-11-28 08:00:00    679\n",
       "2021-11-28 16:00:00    732\n",
       "Freq: 8H, Name: store_address, dtype: int64"
      ]
     },
     "execution_count": 20,
     "metadata": {},
     "output_type": "execute_result"
    }
   ],
   "source": [
    "dftrain[mask].groupby(pd.Grouper(key='local_time',freq='8h')).store_address.nunique() "
   ]
  },
  {
   "cell_type": "code",
   "execution_count": 21,
   "id": "8b638920-aa7e-479c-9fc8-2649c0ddbd58",
   "metadata": {},
   "outputs": [
    {
     "data": {
      "text/plain": [
       "822"
      ]
     },
     "execution_count": 21,
     "metadata": {},
     "output_type": "execute_result"
    }
   ],
   "source": [
    "dftrain[mask].store_address.nunique()"
   ]
  },
  {
   "cell_type": "markdown",
   "id": "90091729-cfc7-4f83-847b-6cc6e0005cd3",
   "metadata": {},
   "source": [
    "Hay 4 tiendas que han repartido en el Turno 1, del total de 822, un 0.4% del total, y han servido el 0.12% de pedidos del dia"
   ]
  },
  {
   "cell_type": "code",
   "execution_count": 22,
   "id": "ce332dc3-34af-4ec1-9fa5-da61346af721",
   "metadata": {},
   "outputs": [],
   "source": [
    "dftrain['status'] = dftrain.final_status.map(target_map)"
   ]
  },
  {
   "cell_type": "code",
   "execution_count": 23,
   "id": "57ffb491-f4b5-41a6-a809-dec59a37d516",
   "metadata": {},
   "outputs": [
    {
     "data": {
      "text/html": [
       "<div>\n",
       "<style scoped>\n",
       "    .dataframe tbody tr th:only-of-type {\n",
       "        vertical-align: middle;\n",
       "    }\n",
       "\n",
       "    .dataframe tbody tr th {\n",
       "        vertical-align: top;\n",
       "    }\n",
       "\n",
       "    .dataframe thead th {\n",
       "        text-align: right;\n",
       "    }\n",
       "</style>\n",
       "<table border=\"1\" class=\"dataframe\">\n",
       "  <thead>\n",
       "    <tr style=\"text-align: right;\">\n",
       "      <th></th>\n",
       "      <th>store_address</th>\n",
       "      <th>n_of_products</th>\n",
       "      <th>products_total</th>\n",
       "      <th>status</th>\n",
       "    </tr>\n",
       "  </thead>\n",
       "  <tbody>\n",
       "    <tr>\n",
       "      <th>store_address</th>\n",
       "      <td>1.000000</td>\n",
       "      <td>-0.176088</td>\n",
       "      <td>-0.202292</td>\n",
       "      <td>0.039823</td>\n",
       "    </tr>\n",
       "    <tr>\n",
       "      <th>n_of_products</th>\n",
       "      <td>-0.176088</td>\n",
       "      <td>1.000000</td>\n",
       "      <td>0.407848</td>\n",
       "      <td>-0.018167</td>\n",
       "    </tr>\n",
       "    <tr>\n",
       "      <th>products_total</th>\n",
       "      <td>-0.202292</td>\n",
       "      <td>0.407848</td>\n",
       "      <td>1.000000</td>\n",
       "      <td>0.019999</td>\n",
       "    </tr>\n",
       "    <tr>\n",
       "      <th>status</th>\n",
       "      <td>0.039823</td>\n",
       "      <td>-0.018167</td>\n",
       "      <td>0.019999</td>\n",
       "      <td>1.000000</td>\n",
       "    </tr>\n",
       "  </tbody>\n",
       "</table>\n",
       "</div>"
      ],
      "text/plain": [
       "                store_address  n_of_products  products_total    status\n",
       "store_address        1.000000      -0.176088       -0.202292  0.039823\n",
       "n_of_products       -0.176088       1.000000        0.407848 -0.018167\n",
       "products_total      -0.202292       0.407848        1.000000  0.019999\n",
       "status               0.039823      -0.018167        0.019999  1.000000"
      ]
     },
     "execution_count": 23,
     "metadata": {},
     "output_type": "execute_result"
    }
   ],
   "source": [
    "dftrain.corr()"
   ]
  },
  {
   "cell_type": "markdown",
   "id": "2656ce3f-966e-4e26-b282-188c46ae445b",
   "metadata": {
    "tags": []
   },
   "source": [
    "### 5. Realiza un modelo predictivo de machine learning\n",
    " ... a partir del dataset 'train.csv' en el cual a partir de las variables predictoras que se entregan en el dataset 'test_X' se pueda predecir si el pedido se cancelará o no (columna 'final_status'). Siendo:\n",
    "Para simplificar, podeis asignar los valores 'CanceledStatus' a 0 y los valores 'DeliveredStatus' a 1.\n",
    "\n",
    "> 0 = CanceledStatus  \n",
    "> 1 = DeliveredStatus"
   ]
  },
  {
   "cell_type": "code",
   "execution_count": 24,
   "id": "8c02e01a-5d5c-4f24-bcd8-6f6b90735051",
   "metadata": {},
   "outputs": [],
   "source": [
    "from sklearn.model_selection import StratifiedKFold\n",
    "from sklearn.preprocessing import RobustScaler\n",
    "from sklearn.model_selection import train_test_split\n",
    "from sklearn.metrics import f1_score, confusion_matrix\n",
    "from sklearn.pipeline import Pipeline\n",
    "from xgboost import XGBClassifier\n"
   ]
  },
  {
   "cell_type": "code",
   "execution_count": 25,
   "id": "a3b32786-e2bb-42af-b0ee-aec410d466ec",
   "metadata": {},
   "outputs": [],
   "source": [
    "dftrain['hour'] = dftrain.local_time.dt.hour.astype(int)"
   ]
  },
  {
   "cell_type": "code",
   "execution_count": 26,
   "id": "c2a2347f-c913-472b-9cd1-d62cc9613fc4",
   "metadata": {},
   "outputs": [],
   "source": [
    "for col in cat_cols:\n",
    "    dftrain[col] = dftrain[col].astype('category')"
   ]
  },
  {
   "cell_type": "code",
   "execution_count": 27,
   "id": "e9f60d95-73c0-49ef-b598-5dfe19d721d4",
   "metadata": {},
   "outputs": [],
   "source": [
    "clf = XGBClassifier(objective=f1_score, enable_categorical=True, use_label_encoder=False)"
   ]
  },
  {
   "cell_type": "code",
   "execution_count": 28,
   "id": "604500df-95bf-43dc-8c32-6326d28a234f",
   "metadata": {},
   "outputs": [
    {
     "name": "stdout",
     "output_type": "stream",
     "text": [
      "<class 'pandas.core.frame.DataFrame'>\n",
      "Int64Index: 54330 entries, 33446280 to 32695191\n",
      "Data columns (total 9 columns):\n",
      " #   Column          Non-Null Count  Dtype         \n",
      "---  ------          --------------  -----         \n",
      " 0   local_time      54330 non-null  datetime64[ns]\n",
      " 1   country_code    54330 non-null  category      \n",
      " 2   store_address   54330 non-null  category      \n",
      " 3   payment_status  54330 non-null  category      \n",
      " 4   n_of_products   54330 non-null  int64         \n",
      " 5   products_total  54330 non-null  float64       \n",
      " 6   final_status    54330 non-null  object        \n",
      " 7   status          54330 non-null  int64         \n",
      " 8   hour            54330 non-null  int64         \n",
      "dtypes: category(3), datetime64[ns](1), float64(1), int64(3), object(1)\n",
      "memory usage: 3.3+ MB\n"
     ]
    }
   ],
   "source": [
    "dftrain.info()"
   ]
  },
  {
   "cell_type": "code",
   "execution_count": 29,
   "id": "9e2893d7-ae63-4ca4-9a80-2915a85d4df1",
   "metadata": {},
   "outputs": [
    {
     "data": {
      "text/plain": [
       "Index(['local_time', 'country_code', 'store_address', 'payment_status',\n",
       "       'n_of_products', 'products_total', 'final_status', 'status', 'hour'],\n",
       "      dtype='object')"
      ]
     },
     "execution_count": 29,
     "metadata": {},
     "output_type": "execute_result"
    }
   ],
   "source": [
    "dftrain.columns"
   ]
  },
  {
   "cell_type": "code",
   "execution_count": 30,
   "id": "58fb5125-597d-4c20-97d0-b7cd49eb1f5e",
   "metadata": {},
   "outputs": [],
   "source": [
    "train_cols = ['country_code', 'store_address', 'payment_status',\n",
    "       'n_of_products', 'products_total', 'hour']\n",
    "target = ['status']"
   ]
  },
  {
   "cell_type": "code",
   "execution_count": 31,
   "id": "341ed41b-5b55-41f4-bc37-a77de39a6830",
   "metadata": {},
   "outputs": [],
   "source": [
    "from sklearn.model_selection import train_test_split\n",
    "from sklearn.preprocessing import MinMaxScaler, PowerTransformer, RobustScaler\n",
    "from sklearn.preprocessing import OneHotEncoder, LabelEncoder\n",
    "from sklearn.pipeline import Pipeline\n",
    "from sklearn.compose import ColumnTransformer\n",
    "from sklearn.linear_model import LinearRegression\n",
    "from sklearn.metrics import f1_score, confusion_matrix\n",
    "\n",
    "from tqdm.notebook import tqdm\n",
    "\n",
    "from lightgbm import LGBMClassifier\n",
    "\n",
    "import time\n"
   ]
  },
  {
   "cell_type": "code",
   "execution_count": 32,
   "id": "f24d5d4e-b7f1-4d10-b4a5-ae6de67b5677",
   "metadata": {},
   "outputs": [],
   "source": [
    "SEED = 42\n",
    "TEST_SIZE = 0.2\n",
    "TESTING = True\n",
    "\n",
    "\n",
    "def make_pipeline(data, columns, model):\n",
    "    cols_num = data[columns].select_dtypes(include=['int','float']).columns.to_list()\n",
    "    cols_cat = data[columns].select_dtypes(include=['object']).columns.to_list()\n",
    "    cols_date = data[columns].select_dtypes(include=['datetime']).columns.to_list()\n",
    "    \n",
    "    ct = ColumnTransformer(\n",
    "             transformers=[('num', MinMaxScaler(), cols_num),\n",
    "                          ('cat',OneHotEncoder(), cols_cat)])\n",
    "    \n",
    "    pipeline = Pipeline( steps=[('transformer', ct),\n",
    "                               ('clasif', model)])\n",
    "    \n",
    "    return pipeline\n",
    "\n",
    "\n",
    "def run_experiment(train, test=None, columns=[], model=LinearRegression()):\n",
    "    if test is None:\n",
    "        X_train, X_test, y_train, y_test = train_test_split(*train,  \n",
    "                                                        test_size=TEST_SIZE, random_state=SEED)\n",
    "    else:\n",
    "        X_train, y_train = train\n",
    "        X_test, y_test = test\n",
    "        \n",
    "#     pipe = make_pipeline(X_train, columns, model)\n",
    "    \n",
    "    model.fit(X_train, y_train)\n",
    "    y_pred = model.predict(X_test)\n",
    "    \n",
    "    return f1_score(y_test, np.round(y_pred), average='macro'), model\n",
    "  "
   ]
  },
  {
   "cell_type": "code",
   "execution_count": 33,
   "id": "21ae2dd4-8d95-4d23-b43d-eec8cd3b396c",
   "metadata": {},
   "outputs": [],
   "source": [
    "dftrain.reset_index(inplace=True)"
   ]
  },
  {
   "cell_type": "code",
   "execution_count": 34,
   "id": "45c48d05-90e6-463a-ad27-2962c2bf75ab",
   "metadata": {},
   "outputs": [
    {
     "name": "stdout",
     "output_type": "stream",
     "text": [
      "0 (45275,) (9055,)\n",
      "1 (45275,) (9055,)\n",
      "2 (45275,) (9055,)\n",
      "3 (45275,) (9055,)\n",
      "4 (45275,) (9055,)\n",
      "5 (45275,) (9055,)\n"
     ]
    }
   ],
   "source": [
    "from sklearn.model_selection import StratifiedKFold, KFold\n",
    "\n",
    "FOLDS = 6\n",
    "dftrain['fold'] = -1\n",
    "\n",
    "skf = StratifiedKFold(n_splits=FOLDS, random_state=42, shuffle=True)\n",
    "\n",
    "for fold, (train_idx, val_idx) in enumerate(skf.split(dftrain[train_cols], dftrain[target])):\n",
    "    print(fold, train_idx.shape, val_idx.shape)\n",
    "    dftrain.loc[val_idx, 'fold'] = fold"
   ]
  },
  {
   "cell_type": "code",
   "execution_count": 35,
   "id": "23a9d477-d3dc-4e11-9b3c-ef90034a3398",
   "metadata": {},
   "outputs": [
    {
     "name": "stderr",
     "output_type": "stream",
     "text": [
      "/opt/homebrew/Caskroom/miniforge/base/envs/py38_ds/lib/python3.8/site-packages/sklearn/preprocessing/_label.py:98: DataConversionWarning: A column-vector y was passed when a 1d array was expected. Please change the shape of y to (n_samples, ), for example using ravel().\n",
      "  y = column_or_1d(y, warn=True)\n",
      "/opt/homebrew/Caskroom/miniforge/base/envs/py38_ds/lib/python3.8/site-packages/sklearn/preprocessing/_label.py:133: DataConversionWarning: A column-vector y was passed when a 1d array was expected. Please change the shape of y to (n_samples, ), for example using ravel().\n",
      "  y = column_or_1d(y, warn=True)\n",
      "/opt/homebrew/Caskroom/miniforge/base/envs/py38_ds/lib/python3.8/site-packages/sklearn/preprocessing/_label.py:98: DataConversionWarning: A column-vector y was passed when a 1d array was expected. Please change the shape of y to (n_samples, ), for example using ravel().\n",
      "  y = column_or_1d(y, warn=True)\n",
      "/opt/homebrew/Caskroom/miniforge/base/envs/py38_ds/lib/python3.8/site-packages/sklearn/preprocessing/_label.py:133: DataConversionWarning: A column-vector y was passed when a 1d array was expected. Please change the shape of y to (n_samples, ), for example using ravel().\n",
      "  y = column_or_1d(y, warn=True)\n"
     ]
    },
    {
     "name": "stdout",
     "output_type": "stream",
     "text": [
      "Fold 0\t f1: 0.49112\n",
      "Fold 1\t f1: 0.49964\n"
     ]
    },
    {
     "name": "stderr",
     "output_type": "stream",
     "text": [
      "/opt/homebrew/Caskroom/miniforge/base/envs/py38_ds/lib/python3.8/site-packages/sklearn/preprocessing/_label.py:98: DataConversionWarning: A column-vector y was passed when a 1d array was expected. Please change the shape of y to (n_samples, ), for example using ravel().\n",
      "  y = column_or_1d(y, warn=True)\n",
      "/opt/homebrew/Caskroom/miniforge/base/envs/py38_ds/lib/python3.8/site-packages/sklearn/preprocessing/_label.py:133: DataConversionWarning: A column-vector y was passed when a 1d array was expected. Please change the shape of y to (n_samples, ), for example using ravel().\n",
      "  y = column_or_1d(y, warn=True)\n",
      "/opt/homebrew/Caskroom/miniforge/base/envs/py38_ds/lib/python3.8/site-packages/sklearn/preprocessing/_label.py:98: DataConversionWarning: A column-vector y was passed when a 1d array was expected. Please change the shape of y to (n_samples, ), for example using ravel().\n",
      "  y = column_or_1d(y, warn=True)\n",
      "/opt/homebrew/Caskroom/miniforge/base/envs/py38_ds/lib/python3.8/site-packages/sklearn/preprocessing/_label.py:133: DataConversionWarning: A column-vector y was passed when a 1d array was expected. Please change the shape of y to (n_samples, ), for example using ravel().\n",
      "  y = column_or_1d(y, warn=True)\n"
     ]
    },
    {
     "name": "stdout",
     "output_type": "stream",
     "text": [
      "Fold 2\t f1: 0.49537\n",
      "Fold 3\t f1: 0.49213\n"
     ]
    },
    {
     "name": "stderr",
     "output_type": "stream",
     "text": [
      "/opt/homebrew/Caskroom/miniforge/base/envs/py38_ds/lib/python3.8/site-packages/sklearn/preprocessing/_label.py:98: DataConversionWarning: A column-vector y was passed when a 1d array was expected. Please change the shape of y to (n_samples, ), for example using ravel().\n",
      "  y = column_or_1d(y, warn=True)\n",
      "/opt/homebrew/Caskroom/miniforge/base/envs/py38_ds/lib/python3.8/site-packages/sklearn/preprocessing/_label.py:133: DataConversionWarning: A column-vector y was passed when a 1d array was expected. Please change the shape of y to (n_samples, ), for example using ravel().\n",
      "  y = column_or_1d(y, warn=True)\n",
      "/opt/homebrew/Caskroom/miniforge/base/envs/py38_ds/lib/python3.8/site-packages/sklearn/preprocessing/_label.py:98: DataConversionWarning: A column-vector y was passed when a 1d array was expected. Please change the shape of y to (n_samples, ), for example using ravel().\n",
      "  y = column_or_1d(y, warn=True)\n",
      "/opt/homebrew/Caskroom/miniforge/base/envs/py38_ds/lib/python3.8/site-packages/sklearn/preprocessing/_label.py:133: DataConversionWarning: A column-vector y was passed when a 1d array was expected. Please change the shape of y to (n_samples, ), for example using ravel().\n",
      "  y = column_or_1d(y, warn=True)\n"
     ]
    },
    {
     "name": "stdout",
     "output_type": "stream",
     "text": [
      "Fold 4\t f1: 0.50151\n",
      "Fold 5\t f1: 0.50321\n"
     ]
    }
   ],
   "source": [
    "preds_oof = []\n",
    "final_val_preds = {}\n",
    "for fold in range(FOLDS):\n",
    "    xtrain = dftrain[dftrain.fold != fold]\n",
    "    xval = dftrain[dftrain.fold == fold]\n",
    "    \n",
    "    \n",
    "    valid_ids = xval.index.to_list()\n",
    "    \n",
    "    ytrain = xtrain[target]\n",
    "    yval = xval[target]\n",
    "    \n",
    "    params = {'learning_rate': 0.04113078629577159,\n",
    "             'reg_lambda': 2.2529987562292753e-05,\n",
    "             'reg_alpha': 2.1553668505558285e-06,\n",
    "             'subsample': 0.5079109680078884,\n",
    "             'colsample_bytree': 0.8912508896212556,\n",
    "             'max_depth': 7,\n",
    "             'objective': 'binary:logistic',\n",
    "             'eval_metric': 'auc'}\n",
    "    \n",
    "    xtrain = xtrain[train_cols]\n",
    "    xval = xval[train_cols]\n",
    "    \n",
    "    model = LGBMClassifier(is_unbalance=True)\n",
    "    pipe = make_pipeline(xtrain, train_cols, model)\n",
    "    f1, model = run_experiment((xtrain,ytrain),(xval,yval), model=pipe )\n",
    "    \n",
    "    preds_valid = model.predict_proba(xval)\n",
    "    final_val_preds.update(dict(zip(valid_ids, preds_valid)))\n",
    "    print(f'Fold {fold}\\t f1: {f1:.5f}')\n",
    "    "
   ]
  },
  {
   "cell_type": "code",
   "execution_count": 36,
   "id": "187e5ffd-fc43-4a5b-9993-88f2199f9d9f",
   "metadata": {},
   "outputs": [
    {
     "data": {
      "text/html": [
       "<div>\n",
       "<style scoped>\n",
       "    .dataframe tbody tr th:only-of-type {\n",
       "        vertical-align: middle;\n",
       "    }\n",
       "\n",
       "    .dataframe tbody tr th {\n",
       "        vertical-align: top;\n",
       "    }\n",
       "\n",
       "    .dataframe thead th {\n",
       "        text-align: right;\n",
       "    }\n",
       "</style>\n",
       "<table border=\"1\" class=\"dataframe\">\n",
       "  <thead>\n",
       "    <tr style=\"text-align: right;\">\n",
       "      <th></th>\n",
       "      <th>0</th>\n",
       "      <th>1</th>\n",
       "    </tr>\n",
       "  </thead>\n",
       "  <tbody>\n",
       "    <tr>\n",
       "      <th>0</th>\n",
       "      <td>0.628221</td>\n",
       "      <td>0.371779</td>\n",
       "    </tr>\n",
       "    <tr>\n",
       "      <th>1</th>\n",
       "      <td>0.627371</td>\n",
       "      <td>0.372629</td>\n",
       "    </tr>\n",
       "    <tr>\n",
       "      <th>2</th>\n",
       "      <td>0.593799</td>\n",
       "      <td>0.406201</td>\n",
       "    </tr>\n",
       "    <tr>\n",
       "      <th>3</th>\n",
       "      <td>0.499883</td>\n",
       "      <td>0.500117</td>\n",
       "    </tr>\n",
       "    <tr>\n",
       "      <th>4</th>\n",
       "      <td>0.521867</td>\n",
       "      <td>0.478133</td>\n",
       "    </tr>\n",
       "    <tr>\n",
       "      <th>...</th>\n",
       "      <td>...</td>\n",
       "      <td>...</td>\n",
       "    </tr>\n",
       "    <tr>\n",
       "      <th>54325</th>\n",
       "      <td>0.567477</td>\n",
       "      <td>0.432523</td>\n",
       "    </tr>\n",
       "    <tr>\n",
       "      <th>54326</th>\n",
       "      <td>0.422768</td>\n",
       "      <td>0.577232</td>\n",
       "    </tr>\n",
       "    <tr>\n",
       "      <th>54327</th>\n",
       "      <td>0.447432</td>\n",
       "      <td>0.552568</td>\n",
       "    </tr>\n",
       "    <tr>\n",
       "      <th>54328</th>\n",
       "      <td>0.817990</td>\n",
       "      <td>0.182010</td>\n",
       "    </tr>\n",
       "    <tr>\n",
       "      <th>54329</th>\n",
       "      <td>0.597665</td>\n",
       "      <td>0.402335</td>\n",
       "    </tr>\n",
       "  </tbody>\n",
       "</table>\n",
       "<p>54330 rows × 2 columns</p>\n",
       "</div>"
      ],
      "text/plain": [
       "              0         1\n",
       "0      0.628221  0.371779\n",
       "1      0.627371  0.372629\n",
       "2      0.593799  0.406201\n",
       "3      0.499883  0.500117\n",
       "4      0.521867  0.478133\n",
       "...         ...       ...\n",
       "54325  0.567477  0.432523\n",
       "54326  0.422768  0.577232\n",
       "54327  0.447432  0.552568\n",
       "54328  0.817990  0.182010\n",
       "54329  0.597665  0.402335\n",
       "\n",
       "[54330 rows x 2 columns]"
      ]
     },
     "execution_count": 36,
     "metadata": {},
     "output_type": "execute_result"
    }
   ],
   "source": [
    "pd.DataFrame.from_dict(final_val_preds, orient='index').sort_index()"
   ]
  },
  {
   "cell_type": "code",
   "execution_count": 37,
   "id": "b3073bfc-3f0a-42f1-9174-4cc52bebbffd",
   "metadata": {},
   "outputs": [
    {
     "name": "stdout",
     "output_type": "stream",
     "text": [
      "Threshold: 0.0\n",
      "0.09693826667996411\n",
      "[[    0 48498]\n",
      " [    0  5832]]\n",
      "Threshold: 0.1\n",
      "0.09796644243736873\n",
      "[[   49 48449]\n",
      " [    4  5828]]\n",
      "Threshold: 0.2\n",
      "0.11284968785436605\n",
      "[[  768 47730]\n",
      " [   60  5772]]\n",
      "Threshold: 0.30000000000000004\n",
      "0.15340396103904927\n",
      "[[ 2842 45656]\n",
      " [  220  5612]]\n",
      "Threshold: 0.4\n",
      "0.25052422446096995\n",
      "[[ 8740 39758]\n",
      " [  774  5058]]\n",
      "Threshold: 0.5\n",
      "0.4973285035324155\n",
      "[[33543 14955]\n",
      " [ 3400  2432]]\n",
      "Threshold: 0.6000000000000001\n",
      "0.5439624711699174\n",
      "[[45308  3190]\n",
      " [ 4990   842]]\n",
      "Threshold: 0.7000000000000001\n",
      "0.5190792622688153\n",
      "[[47528   970]\n",
      " [ 5468   364]]\n",
      "Threshold: 0.8\n",
      "0.4901508538219047\n",
      "[[48275   223]\n",
      " [ 5714   118]]\n",
      "Threshold: 0.9\n",
      "0.4727927520830744\n",
      "[[48483    15]\n",
      " [ 5825     7]]\n",
      "Threshold: 1.0\n",
      "0.47164196522348\n",
      "[[48498     0]\n",
      " [ 5832     0]]\n"
     ]
    }
   ],
   "source": [
    "for th in np.linspace(0,1,11):\n",
    "    dftemp = pd.DataFrame.from_dict(final_val_preds, orient='index').sort_index().loc[:,1]\n",
    "    res = (dftemp > th).astype(int)\n",
    "    print(f'Threshold: {th}')\n",
    "    print(f1_score(dftrain.status, res, average='macro'))\n",
    "    print(confusion_matrix(dftrain.status, res))"
   ]
  },
  {
   "cell_type": "code",
   "execution_count": 38,
   "id": "d2ae97f9-7fad-4dc2-9001-ccc1fede6c2b",
   "metadata": {},
   "outputs": [
    {
     "data": {
      "text/plain": [
       "0        0\n",
       "1        0\n",
       "2        0\n",
       "3        0\n",
       "4        0\n",
       "        ..\n",
       "54325    0\n",
       "54326    0\n",
       "54327    0\n",
       "54328    0\n",
       "54329    0\n",
       "Name: 1, Length: 54330, dtype: int64"
      ]
     },
     "execution_count": 38,
     "metadata": {},
     "output_type": "execute_result"
    }
   ],
   "source": [
    "res"
   ]
  },
  {
   "cell_type": "markdown",
   "id": "113f89dc-a9c7-4916-844b-ad039bfef615",
   "metadata": {},
   "source": [
    "##### Check if we can add feautres\n",
    "\n",
    "- Number of deliveries in the last hour by shop"
   ]
  },
  {
   "cell_type": "code",
   "execution_count": 39,
   "id": "3391e310-bb18-41c8-aefc-4ca591fb3261",
   "metadata": {},
   "outputs": [
    {
     "data": {
      "text/plain": [
       "store_address  hour\n",
       "190            0       0\n",
       "               1       0\n",
       "               2       0\n",
       "               3       0\n",
       "               4       0\n",
       "                      ..\n",
       "75236          19      0\n",
       "               20      0\n",
       "               21      1\n",
       "               22      0\n",
       "               23      0\n",
       "Name: order_id, Length: 135048, dtype: int64"
      ]
     },
     "execution_count": 39,
     "metadata": {},
     "output_type": "execute_result"
    }
   ],
   "source": [
    "dftrain.groupby(by=['store_address', 'hour']).count()['order_id']"
   ]
  },
  {
   "cell_type": "code",
   "execution_count": 40,
   "id": "d6ca720f-a390-4f89-9d3f-304ee1f7f43c",
   "metadata": {},
   "outputs": [
    {
     "data": {
      "text/plain": [
       "<AxesSubplot:xlabel='order_id', ylabel='Count'>"
      ]
     },
     "execution_count": 40,
     "metadata": {},
     "output_type": "execute_result"
    },
    {
     "data": {
      "image/png": "[encoded data removed]",
      "text/plain": [
       "<Figure size 432x288 with 1 Axes>"
      ]
     },
     "metadata": {
      "needs_background": "light"
     },
     "output_type": "display_data"
    }
   ],
   "source": [
    "sns.histplot(dftrain.groupby(['store_address','hour']).count()['order_id'])"
   ]
  },
  {
   "cell_type": "code",
   "execution_count": 41,
   "id": "7668b6ea-6954-4cbf-9329-9226f5370546",
   "metadata": {},
   "outputs": [
    {
     "data": {
      "text/plain": [
       "store_address  local_time         \n",
       "190            2021-11-28 00:00:00    0\n",
       "               2021-11-28 00:30:00    0\n",
       "               2021-11-28 01:00:00    0\n",
       "               2021-11-28 01:30:00    0\n",
       "               2021-11-28 02:00:00    0\n",
       "                                     ..\n",
       "75236          2021-11-28 21:30:00    1\n",
       "               2021-11-28 22:00:00    0\n",
       "               2021-11-28 22:30:00    0\n",
       "               2021-11-28 23:00:00    0\n",
       "               2021-11-28 23:30:00    0\n",
       "Name: order_id, Length: 270096, dtype: int64"
      ]
     },
     "execution_count": 41,
     "metadata": {},
     "output_type": "execute_result"
    }
   ],
   "source": [
    "dftrain.groupby(['store_address',pd.Grouper(key='local_time',freq='30min')]).order_id.count()\n"
   ]
  },
  {
   "cell_type": "code",
   "execution_count": 42,
   "id": "e0bed523-828f-48c2-995c-7d43d07bd63e",
   "metadata": {},
   "outputs": [
    {
     "data": {
      "text/html": [
       "<div>\n",
       "<style scoped>\n",
       "    .dataframe tbody tr th:only-of-type {\n",
       "        vertical-align: middle;\n",
       "    }\n",
       "\n",
       "    .dataframe tbody tr th {\n",
       "        vertical-align: top;\n",
       "    }\n",
       "\n",
       "    .dataframe thead th {\n",
       "        text-align: right;\n",
       "    }\n",
       "</style>\n",
       "<table border=\"1\" class=\"dataframe\">\n",
       "  <thead>\n",
       "    <tr style=\"text-align: right;\">\n",
       "      <th></th>\n",
       "      <th>order_id</th>\n",
       "      <th>local_time</th>\n",
       "      <th>country_code</th>\n",
       "      <th>store_address</th>\n",
       "      <th>payment_status</th>\n",
       "      <th>n_of_products</th>\n",
       "      <th>products_total</th>\n",
       "      <th>final_status</th>\n",
       "      <th>status</th>\n",
       "      <th>hour</th>\n",
       "      <th>fold</th>\n",
       "    </tr>\n",
       "  </thead>\n",
       "  <tbody>\n",
       "    <tr>\n",
       "      <th>17112</th>\n",
       "      <td>33088357</td>\n",
       "      <td>2021-11-28 16:47:44</td>\n",
       "      <td>ES</td>\n",
       "      <td>190</td>\n",
       "      <td>PAID</td>\n",
       "      <td>1</td>\n",
       "      <td>2.9</td>\n",
       "      <td>DeliveredStatus</td>\n",
       "      <td>0</td>\n",
       "      <td>16</td>\n",
       "      <td>4</td>\n",
       "    </tr>\n",
       "    <tr>\n",
       "      <th>17670</th>\n",
       "      <td>32528098</td>\n",
       "      <td>2021-11-28 10:19:38</td>\n",
       "      <td>ES</td>\n",
       "      <td>190</td>\n",
       "      <td>PAID</td>\n",
       "      <td>1</td>\n",
       "      <td>2.8</td>\n",
       "      <td>DeliveredStatus</td>\n",
       "      <td>0</td>\n",
       "      <td>10</td>\n",
       "      <td>4</td>\n",
       "    </tr>\n",
       "    <tr>\n",
       "      <th>18797</th>\n",
       "      <td>32688558</td>\n",
       "      <td>2021-11-28 17:28:49</td>\n",
       "      <td>ES</td>\n",
       "      <td>190</td>\n",
       "      <td>PAID</td>\n",
       "      <td>2</td>\n",
       "      <td>8.6</td>\n",
       "      <td>DeliveredStatus</td>\n",
       "      <td>0</td>\n",
       "      <td>17</td>\n",
       "      <td>5</td>\n",
       "    </tr>\n",
       "    <tr>\n",
       "      <th>28177</th>\n",
       "      <td>33454177</td>\n",
       "      <td>2021-11-28 18:53:53</td>\n",
       "      <td>ES</td>\n",
       "      <td>190</td>\n",
       "      <td>PAID</td>\n",
       "      <td>1</td>\n",
       "      <td>4.5</td>\n",
       "      <td>DeliveredStatus</td>\n",
       "      <td>0</td>\n",
       "      <td>18</td>\n",
       "      <td>2</td>\n",
       "    </tr>\n",
       "    <tr>\n",
       "      <th>29234</th>\n",
       "      <td>32650972</td>\n",
       "      <td>2021-11-28 09:34:28</td>\n",
       "      <td>ES</td>\n",
       "      <td>190</td>\n",
       "      <td>PAID</td>\n",
       "      <td>2</td>\n",
       "      <td>5.8</td>\n",
       "      <td>DeliveredStatus</td>\n",
       "      <td>0</td>\n",
       "      <td>9</td>\n",
       "      <td>2</td>\n",
       "    </tr>\n",
       "    <tr>\n",
       "      <th>34955</th>\n",
       "      <td>32525617</td>\n",
       "      <td>2021-11-28 08:09:53</td>\n",
       "      <td>ES</td>\n",
       "      <td>190</td>\n",
       "      <td>PAID</td>\n",
       "      <td>2</td>\n",
       "      <td>5.1</td>\n",
       "      <td>DeliveredStatus</td>\n",
       "      <td>0</td>\n",
       "      <td>8</td>\n",
       "      <td>2</td>\n",
       "    </tr>\n",
       "    <tr>\n",
       "      <th>39105</th>\n",
       "      <td>33045745</td>\n",
       "      <td>2021-11-28 10:00:10</td>\n",
       "      <td>ES</td>\n",
       "      <td>190</td>\n",
       "      <td>PAID</td>\n",
       "      <td>2</td>\n",
       "      <td>5.1</td>\n",
       "      <td>DeliveredStatus</td>\n",
       "      <td>0</td>\n",
       "      <td>10</td>\n",
       "      <td>5</td>\n",
       "    </tr>\n",
       "    <tr>\n",
       "      <th>40072</th>\n",
       "      <td>32951069</td>\n",
       "      <td>2021-11-28 17:46:48</td>\n",
       "      <td>ES</td>\n",
       "      <td>190</td>\n",
       "      <td>PAID</td>\n",
       "      <td>1</td>\n",
       "      <td>2.8</td>\n",
       "      <td>DeliveredStatus</td>\n",
       "      <td>0</td>\n",
       "      <td>17</td>\n",
       "      <td>4</td>\n",
       "    </tr>\n",
       "    <tr>\n",
       "      <th>41832</th>\n",
       "      <td>32692825</td>\n",
       "      <td>2021-11-28 18:03:59</td>\n",
       "      <td>ES</td>\n",
       "      <td>190</td>\n",
       "      <td>PAID</td>\n",
       "      <td>1</td>\n",
       "      <td>2.8</td>\n",
       "      <td>DeliveredStatus</td>\n",
       "      <td>0</td>\n",
       "      <td>18</td>\n",
       "      <td>2</td>\n",
       "    </tr>\n",
       "  </tbody>\n",
       "</table>\n",
       "</div>"
      ],
      "text/plain": [
       "       order_id          local_time country_code store_address payment_status  \\\n",
       "17112  33088357 2021-11-28 16:47:44           ES           190           PAID   \n",
       "17670  32528098 2021-11-28 10:19:38           ES           190           PAID   \n",
       "18797  32688558 2021-11-28 17:28:49           ES           190           PAID   \n",
       "28177  33454177 2021-11-28 18:53:53           ES           190           PAID   \n",
       "29234  32650972 2021-11-28 09:34:28           ES           190           PAID   \n",
       "34955  32525617 2021-11-28 08:09:53           ES           190           PAID   \n",
       "39105  33045745 2021-11-28 10:00:10           ES           190           PAID   \n",
       "40072  32951069 2021-11-28 17:46:48           ES           190           PAID   \n",
       "41832  32692825 2021-11-28 18:03:59           ES           190           PAID   \n",
       "\n",
       "       n_of_products  products_total     final_status  status  hour  fold  \n",
       "17112              1             2.9  DeliveredStatus       0    16     4  \n",
       "17670              1             2.8  DeliveredStatus       0    10     4  \n",
       "18797              2             8.6  DeliveredStatus       0    17     5  \n",
       "28177              1             4.5  DeliveredStatus       0    18     2  \n",
       "29234              2             5.8  DeliveredStatus       0     9     2  \n",
       "34955              2             5.1  DeliveredStatus       0     8     2  \n",
       "39105              2             5.1  DeliveredStatus       0    10     5  \n",
       "40072              1             2.8  DeliveredStatus       0    17     4  \n",
       "41832              1             2.8  DeliveredStatus       0    18     2  "
      ]
     },
     "execution_count": 42,
     "metadata": {},
     "output_type": "execute_result"
    }
   ],
   "source": [
    "mask = dftrain.store_address == 190\n",
    "dftrain[mask]"
   ]
  },
  {
   "cell_type": "code",
   "execution_count": 43,
   "id": "a018c1f7-cf3e-409b-89f4-1f829c84a825",
   "metadata": {},
   "outputs": [
    {
     "data": {
      "text/plain": [
       "<AxesSubplot:xlabel='hour', ylabel='Density'>"
      ]
     },
     "execution_count": 43,
     "metadata": {},
     "output_type": "execute_result"
    },
    {
     "data": {
      "image/png": "[encoded data removed]",
      "text/plain": [
       "<Figure size 432x288 with 1 Axes>"
      ]
     },
     "metadata": {
      "needs_background": "light"
     },
     "output_type": "display_data"
    }
   ],
   "source": [
    "sns.kdeplot(data=dftrain, x='hour', hue='status',  )"
   ]
  },
  {
   "cell_type": "markdown",
   "id": "e838357f-3f28-4611-ab09-c5d72e131a91",
   "metadata": {},
   "source": [
    "##### Rolling sum"
   ]
  },
  {
   "cell_type": "code",
   "execution_count": 44,
   "id": "a27b01e7-5353-49cf-9cc0-ca80fe46d569",
   "metadata": {},
   "outputs": [
    {
     "data": {
      "text/html": [
       "<div>\n",
       "<style scoped>\n",
       "    .dataframe tbody tr th:only-of-type {\n",
       "        vertical-align: middle;\n",
       "    }\n",
       "\n",
       "    .dataframe tbody tr th {\n",
       "        vertical-align: top;\n",
       "    }\n",
       "\n",
       "    .dataframe thead th {\n",
       "        text-align: right;\n",
       "    }\n",
       "</style>\n",
       "<table border=\"1\" class=\"dataframe\">\n",
       "  <thead>\n",
       "    <tr style=\"text-align: right;\">\n",
       "      <th></th>\n",
       "      <th>order_id</th>\n",
       "      <th>local_time</th>\n",
       "      <th>country_code</th>\n",
       "      <th>store_address</th>\n",
       "      <th>payment_status</th>\n",
       "      <th>n_of_products</th>\n",
       "      <th>products_total</th>\n",
       "      <th>final_status</th>\n",
       "      <th>status</th>\n",
       "      <th>hour</th>\n",
       "      <th>fold</th>\n",
       "    </tr>\n",
       "  </thead>\n",
       "  <tbody>\n",
       "    <tr>\n",
       "      <th>0</th>\n",
       "      <td>33446280</td>\n",
       "      <td>2021-11-28 14:11:09</td>\n",
       "      <td>AR</td>\n",
       "      <td>55379</td>\n",
       "      <td>PAID</td>\n",
       "      <td>2</td>\n",
       "      <td>11.88</td>\n",
       "      <td>DeliveredStatus</td>\n",
       "      <td>0</td>\n",
       "      <td>14</td>\n",
       "      <td>4</td>\n",
       "    </tr>\n",
       "    <tr>\n",
       "      <th>1</th>\n",
       "      <td>33107339</td>\n",
       "      <td>2021-11-28 11:47:41</td>\n",
       "      <td>GT</td>\n",
       "      <td>23487</td>\n",
       "      <td>PAID</td>\n",
       "      <td>2</td>\n",
       "      <td>5.20</td>\n",
       "      <td>DeliveredStatus</td>\n",
       "      <td>0</td>\n",
       "      <td>11</td>\n",
       "      <td>2</td>\n",
       "    </tr>\n",
       "    <tr>\n",
       "      <th>2</th>\n",
       "      <td>32960645</td>\n",
       "      <td>2021-11-28 11:53:53</td>\n",
       "      <td>CR</td>\n",
       "      <td>62229</td>\n",
       "      <td>PAID</td>\n",
       "      <td>1</td>\n",
       "      <td>6.03</td>\n",
       "      <td>DeliveredStatus</td>\n",
       "      <td>0</td>\n",
       "      <td>11</td>\n",
       "      <td>0</td>\n",
       "    </tr>\n",
       "    <tr>\n",
       "      <th>3</th>\n",
       "      <td>32089564</td>\n",
       "      <td>2021-11-28 20:15:21</td>\n",
       "      <td>ES</td>\n",
       "      <td>29446</td>\n",
       "      <td>PAID</td>\n",
       "      <td>6</td>\n",
       "      <td>6.37</td>\n",
       "      <td>DeliveredStatus</td>\n",
       "      <td>0</td>\n",
       "      <td>20</td>\n",
       "      <td>2</td>\n",
       "    </tr>\n",
       "    <tr>\n",
       "      <th>4</th>\n",
       "      <td>32157739</td>\n",
       "      <td>2021-11-28 21:32:16</td>\n",
       "      <td>AR</td>\n",
       "      <td>13917</td>\n",
       "      <td>PAID</td>\n",
       "      <td>1</td>\n",
       "      <td>5.36</td>\n",
       "      <td>CanceledStatus</td>\n",
       "      <td>1</td>\n",
       "      <td>21</td>\n",
       "      <td>5</td>\n",
       "    </tr>\n",
       "  </tbody>\n",
       "</table>\n",
       "</div>"
      ],
      "text/plain": [
       "   order_id          local_time country_code store_address payment_status  \\\n",
       "0  33446280 2021-11-28 14:11:09           AR         55379           PAID   \n",
       "1  33107339 2021-11-28 11:47:41           GT         23487           PAID   \n",
       "2  32960645 2021-11-28 11:53:53           CR         62229           PAID   \n",
       "3  32089564 2021-11-28 20:15:21           ES         29446           PAID   \n",
       "4  32157739 2021-11-28 21:32:16           AR         13917           PAID   \n",
       "\n",
       "   n_of_products  products_total     final_status  status  hour  fold  \n",
       "0              2           11.88  DeliveredStatus       0    14     4  \n",
       "1              2            5.20  DeliveredStatus       0    11     2  \n",
       "2              1            6.03  DeliveredStatus       0    11     0  \n",
       "3              6            6.37  DeliveredStatus       0    20     2  \n",
       "4              1            5.36   CanceledStatus       1    21     5  "
      ]
     },
     "execution_count": 44,
     "metadata": {},
     "output_type": "execute_result"
    }
   ],
   "source": [
    "dftrain.head()"
   ]
  },
  {
   "cell_type": "code",
   "execution_count": 45,
   "id": "393c468b-e150-46ec-a435-5d7aae11ec79",
   "metadata": {},
   "outputs": [],
   "source": [
    "group = dftrain.groupby(by=['store_address', pd.Grouper(key='local_time',freq='30min')])"
   ]
  },
  {
   "cell_type": "code",
   "execution_count": 46,
   "id": "7ebc5bf3-90ce-4c6d-88f9-9f3cbce6096b",
   "metadata": {},
   "outputs": [
    {
     "data": {
      "text/plain": [
       "store_address  local_time         \n",
       "190            2021-11-28 00:00:00    NaN\n",
       "               2021-11-28 00:30:00    NaN\n",
       "               2021-11-28 01:00:00    0.0\n",
       "               2021-11-28 01:30:00    0.0\n",
       "               2021-11-28 02:00:00    0.0\n",
       "                                     ... \n",
       "75236          2021-11-28 21:30:00    1.0\n",
       "               2021-11-28 22:00:00    1.0\n",
       "               2021-11-28 22:30:00    1.0\n",
       "               2021-11-28 23:00:00    0.0\n",
       "               2021-11-28 23:30:00    0.0\n",
       "Name: order_id, Length: 270096, dtype: float64"
      ]
     },
     "execution_count": 46,
     "metadata": {},
     "output_type": "execute_result"
    }
   ],
   "source": [
    "group.order_id.count().rolling(3).sum()"
   ]
  },
  {
   "cell_type": "markdown",
   "id": "0437a033-96c2-4561-b3c6-a6baab568cea",
   "metadata": {},
   "source": [
    "#### stores and status"
   ]
  },
  {
   "cell_type": "code",
   "execution_count": 47,
   "id": "25eedf30-7453-4f99-8c81-b454337bf4c3",
   "metadata": {},
   "outputs": [
    {
     "data": {
      "text/plain": [
       "5627"
      ]
     },
     "execution_count": 47,
     "metadata": {},
     "output_type": "execute_result"
    }
   ],
   "source": [
    "dftrain.store_address.nunique()"
   ]
  },
  {
   "cell_type": "code",
   "execution_count": 48,
   "id": "ee202b04-0e22-4000-9960-e05fa95cb347",
   "metadata": {},
   "outputs": [
    {
     "data": {
      "text/plain": [
       "(54330, 11)"
      ]
     },
     "execution_count": 48,
     "metadata": {},
     "output_type": "execute_result"
    }
   ],
   "source": [
    "dftrain.shape"
   ]
  },
  {
   "cell_type": "code",
   "execution_count": 49,
   "id": "185d7edb-bd09-4585-80ff-9c7dbbddde50",
   "metadata": {},
   "outputs": [
    {
     "data": {
      "text/plain": [
       "DeliveredStatus    48498\n",
       "CanceledStatus      5832\n",
       "Name: final_status, dtype: int64"
      ]
     },
     "execution_count": 49,
     "metadata": {},
     "output_type": "execute_result"
    }
   ],
   "source": [
    "dftrain.final_status.value_counts()"
   ]
  },
  {
   "cell_type": "code",
   "execution_count": 50,
   "id": "c310bab8-b2a0-4db1-987d-016628fa695c",
   "metadata": {},
   "outputs": [
    {
     "data": {
      "text/plain": [
       "DeliveredStatus    859\n",
       "CanceledStatus     267\n",
       "Name: final_status, dtype: int64"
      ]
     },
     "execution_count": 50,
     "metadata": {},
     "output_type": "execute_result"
    }
   ],
   "source": [
    "mask = dftrain.store_address.value_counts()\n",
    "dftrain[dftrain.store_address.isin(mask.index[mask==1])].final_status.value_counts()"
   ]
  },
  {
   "cell_type": "code",
   "execution_count": 51,
   "id": "8626bc9f-e87d-4d50-94aa-7a2316099646",
   "metadata": {
    "tags": []
   },
   "outputs": [
    {
     "data": {
      "text/plain": [
       "hour  final_status   \n",
       "0     DeliveredStatus     305\n",
       "      CanceledStatus      125\n",
       "1     DeliveredStatus      93\n",
       "      CanceledStatus       54\n",
       "2     CanceledStatus       18\n",
       "      DeliveredStatus       9\n",
       "3     DeliveredStatus      11\n",
       "      CanceledStatus        3\n",
       "4     CanceledStatus        6\n",
       "5     DeliveredStatus       6\n",
       "      CanceledStatus        1\n",
       "6     DeliveredStatus       9\n",
       "      CanceledStatus        5\n",
       "7     DeliveredStatus      81\n",
       "      CanceledStatus       18\n",
       "8     DeliveredStatus     350\n",
       "      CanceledStatus       59\n",
       "9     DeliveredStatus    1211\n",
       "      CanceledStatus      116\n",
       "10    DeliveredStatus    2018\n",
       "      CanceledStatus      203\n",
       "11    DeliveredStatus    2366\n",
       "      CanceledStatus      235\n",
       "12    DeliveredStatus    3543\n",
       "      CanceledStatus      359\n",
       "13    DeliveredStatus    4016\n",
       "      CanceledStatus      429\n",
       "14    DeliveredStatus    3591\n",
       "      CanceledStatus      351\n",
       "15    DeliveredStatus    2830\n",
       "      CanceledStatus      307\n",
       "16    DeliveredStatus    2613\n",
       "      CanceledStatus      321\n",
       "17    DeliveredStatus    2643\n",
       "      CanceledStatus      335\n",
       "18    DeliveredStatus    3143\n",
       "      CanceledStatus      377\n",
       "19    DeliveredStatus    4483\n",
       "      CanceledStatus      435\n",
       "20    DeliveredStatus    6031\n",
       "      CanceledStatus      661\n",
       "21    DeliveredStatus    4880\n",
       "      CanceledStatus      614\n",
       "22    DeliveredStatus    2900\n",
       "      CanceledStatus      447\n",
       "23    DeliveredStatus    1366\n",
       "      CanceledStatus      353\n",
       "Name: final_status, dtype: int64"
      ]
     },
     "execution_count": 51,
     "metadata": {},
     "output_type": "execute_result"
    }
   ],
   "source": [
    "dftrain.groupby('hour').final_status.value_counts()"
   ]
  },
  {
   "cell_type": "code",
   "execution_count": 52,
   "id": "bba30e62-5239-4275-94d2-626a11151016",
   "metadata": {
    "tags": []
   },
   "outputs": [
    {
     "data": {
      "text/plain": [
       "country_code  final_status   \n",
       "AR            DeliveredStatus    10107\n",
       "              CanceledStatus      1747\n",
       "BR            CanceledStatus         1\n",
       "CI            CanceledStatus         3\n",
       "              DeliveredStatus        3\n",
       "CL            DeliveredStatus      857\n",
       "              CanceledStatus       137\n",
       "CR            DeliveredStatus      926\n",
       "              CanceledStatus        74\n",
       "DO            DeliveredStatus      409\n",
       "              CanceledStatus        39\n",
       "EC            DeliveredStatus     2031\n",
       "              CanceledStatus       234\n",
       "EG            DeliveredStatus     1447\n",
       "              CanceledStatus       196\n",
       "ES            DeliveredStatus    10634\n",
       "              CanceledStatus       920\n",
       "FR            DeliveredStatus     1754\n",
       "              CanceledStatus       157\n",
       "GE            DeliveredStatus      415\n",
       "              CanceledStatus        70\n",
       "GT            DeliveredStatus      468\n",
       "              CanceledStatus        43\n",
       "IT            DeliveredStatus     2276\n",
       "              CanceledStatus       261\n",
       "KE            DeliveredStatus       77\n",
       "              CanceledStatus         7\n",
       "MA            DeliveredStatus     1222\n",
       "              CanceledStatus       224\n",
       "PA            DeliveredStatus      806\n",
       "              CanceledStatus       103\n",
       "PE            DeliveredStatus     3923\n",
       "              CanceledStatus       361\n",
       "PR            DeliveredStatus       25\n",
       "              CanceledStatus         4\n",
       "PT            DeliveredStatus      684\n",
       "              CanceledStatus       134\n",
       "RO            DeliveredStatus     1799\n",
       "              CanceledStatus       158\n",
       "TR            DeliveredStatus     5180\n",
       "              CanceledStatus       516\n",
       "UA            DeliveredStatus     3330\n",
       "              CanceledStatus       399\n",
       "UY            DeliveredStatus      125\n",
       "              CanceledStatus        44\n",
       "Name: final_status, dtype: int64"
      ]
     },
     "execution_count": 52,
     "metadata": {},
     "output_type": "execute_result"
    }
   ],
   "source": [
    "dftrain.groupby('country_code').final_status.value_counts()"
   ]
  },
  {
   "cell_type": "code",
   "execution_count": 53,
   "id": "285a4be3-32a6-400c-8e3d-f015015b51b0",
   "metadata": {
    "tags": []
   },
   "outputs": [
    {
     "data": {
      "text/plain": [
       "n_of_products  final_status   \n",
       "1              DeliveredStatus    17453\n",
       "               CanceledStatus      2348\n",
       "2              DeliveredStatus    12142\n",
       "               CanceledStatus      1373\n",
       "3              DeliveredStatus     6839\n",
       "               CanceledStatus       835\n",
       "4              DeliveredStatus     3863\n",
       "               CanceledStatus       417\n",
       "5              DeliveredStatus     2369\n",
       "               CanceledStatus       281\n",
       "6              DeliveredStatus     1684\n",
       "               CanceledStatus       183\n",
       "7              DeliveredStatus     1186\n",
       "               CanceledStatus       106\n",
       "8              DeliveredStatus      917\n",
       "               CanceledStatus        79\n",
       "9              DeliveredStatus      667\n",
       "               CanceledStatus        45\n",
       "10             DeliveredStatus      527\n",
       "               CanceledStatus        47\n",
       "11             DeliveredStatus      328\n",
       "               CanceledStatus        29\n",
       "12             DeliveredStatus      198\n",
       "               CanceledStatus        22\n",
       "13             DeliveredStatus      136\n",
       "               CanceledStatus        15\n",
       "14             DeliveredStatus       86\n",
       "               CanceledStatus        11\n",
       "15             DeliveredStatus       35\n",
       "               CanceledStatus        11\n",
       "16             DeliveredStatus       22\n",
       "               CanceledStatus         5\n",
       "17             DeliveredStatus       17\n",
       "               CanceledStatus         6\n",
       "18             DeliveredStatus        8\n",
       "               CanceledStatus         2\n",
       "19             DeliveredStatus        8\n",
       "               CanceledStatus         6\n",
       "20             CanceledStatus         5\n",
       "               DeliveredStatus        5\n",
       "21             CanceledStatus         1\n",
       "               DeliveredStatus        1\n",
       "22             CanceledStatus         5\n",
       "               DeliveredStatus        2\n",
       "24             DeliveredStatus        1\n",
       "26             DeliveredStatus        1\n",
       "27             DeliveredStatus        1\n",
       "38             DeliveredStatus        1\n",
       "39             DeliveredStatus        1\n",
       "Name: final_status, dtype: int64"
      ]
     },
     "execution_count": 53,
     "metadata": {},
     "output_type": "execute_result"
    }
   ],
   "source": [
    "dftrain.groupby('n_of_products').final_status.value_counts()"
   ]
  },
  {
   "cell_type": "code",
   "execution_count": 54,
   "id": "a16e0cd9-6f46-43b9-9edb-49bde185730a",
   "metadata": {
    "tags": []
   },
   "outputs": [
    {
     "data": {
      "text/plain": [
       "products_total  final_status   \n",
       "0.00            CanceledStatus      2\n",
       "                DeliveredStatus     1\n",
       "0.01            DeliveredStatus    50\n",
       "                CanceledStatus     11\n",
       "0.02            DeliveredStatus    15\n",
       "                                   ..\n",
       "169.00          DeliveredStatus     1\n",
       "176.60          CanceledStatus      1\n",
       "178.00          CanceledStatus      2\n",
       "215.00          DeliveredStatus     1\n",
       "221.48          CanceledStatus      1\n",
       "Name: final_status, Length: 5821, dtype: int64"
      ]
     },
     "execution_count": 54,
     "metadata": {},
     "output_type": "execute_result"
    }
   ],
   "source": [
    "dftrain.groupby('products_total').final_status.value_counts()"
   ]
  },
  {
   "cell_type": "code",
   "execution_count": 55,
   "id": "c81dedd6-7cc0-40b6-b858-34062c0e3b38",
   "metadata": {},
   "outputs": [
    {
     "data": {
      "text/plain": [
       "payment_status  final_status   \n",
       "DELAYED         DeliveredStatus        5\n",
       "                CanceledStatus         1\n",
       "NOT_PAID        DeliveredStatus      352\n",
       "                CanceledStatus       118\n",
       "PAID            DeliveredStatus    48141\n",
       "                CanceledStatus      5713\n",
       "Name: final_status, dtype: int64"
      ]
     },
     "execution_count": 55,
     "metadata": {},
     "output_type": "execute_result"
    }
   ],
   "source": [
    "dftrain.groupby('payment_status').final_status.value_counts()"
   ]
  },
  {
   "cell_type": "code",
   "execution_count": 56,
   "id": "94249971-dc52-482f-a1b9-5a96de55ba22",
   "metadata": {},
   "outputs": [
    {
     "data": {
      "text/plain": [
       "DeliveredStatus    48498\n",
       "CanceledStatus      5832\n",
       "Name: final_status, dtype: int64"
      ]
     },
     "execution_count": 56,
     "metadata": {},
     "output_type": "execute_result"
    }
   ],
   "source": [
    "dftrain.final_status.value_counts()"
   ]
  },
  {
   "cell_type": "code",
   "execution_count": 57,
   "id": "a9a47b6f-43af-4047-9160-75c9dc738063",
   "metadata": {},
   "outputs": [],
   "source": [
    "dftrain['daily_del'] = dftrain.store_address.map(dftrain.groupby('store_address').order_id.count().to_dict())"
   ]
  },
  {
   "cell_type": "code",
   "execution_count": 58,
   "id": "3e7816f2-a04e-4d9c-a0fa-8c320a74d67a",
   "metadata": {},
   "outputs": [
    {
     "data": {
      "text/html": [
       "<div>\n",
       "<style scoped>\n",
       "    .dataframe tbody tr th:only-of-type {\n",
       "        vertical-align: middle;\n",
       "    }\n",
       "\n",
       "    .dataframe tbody tr th {\n",
       "        vertical-align: top;\n",
       "    }\n",
       "\n",
       "    .dataframe thead th {\n",
       "        text-align: right;\n",
       "    }\n",
       "</style>\n",
       "<table border=\"1\" class=\"dataframe\">\n",
       "  <thead>\n",
       "    <tr style=\"text-align: right;\">\n",
       "      <th></th>\n",
       "      <th>daily_del</th>\n",
       "      <th>st</th>\n",
       "      <th>final_status</th>\n",
       "    </tr>\n",
       "  </thead>\n",
       "  <tbody>\n",
       "    <tr>\n",
       "      <th>0</th>\n",
       "      <td>1</td>\n",
       "      <td>DeliveredStatus</td>\n",
       "      <td>859</td>\n",
       "    </tr>\n",
       "    <tr>\n",
       "      <th>1</th>\n",
       "      <td>1</td>\n",
       "      <td>CanceledStatus</td>\n",
       "      <td>267</td>\n",
       "    </tr>\n",
       "    <tr>\n",
       "      <th>2</th>\n",
       "      <td>2</td>\n",
       "      <td>DeliveredStatus</td>\n",
       "      <td>1260</td>\n",
       "    </tr>\n",
       "    <tr>\n",
       "      <th>3</th>\n",
       "      <td>2</td>\n",
       "      <td>CanceledStatus</td>\n",
       "      <td>320</td>\n",
       "    </tr>\n",
       "    <tr>\n",
       "      <th>4</th>\n",
       "      <td>3</td>\n",
       "      <td>DeliveredStatus</td>\n",
       "      <td>1310</td>\n",
       "    </tr>\n",
       "    <tr>\n",
       "      <th>...</th>\n",
       "      <td>...</td>\n",
       "      <td>...</td>\n",
       "      <td>...</td>\n",
       "    </tr>\n",
       "    <tr>\n",
       "      <th>216</th>\n",
       "      <td>228</td>\n",
       "      <td>CanceledStatus</td>\n",
       "      <td>29</td>\n",
       "    </tr>\n",
       "    <tr>\n",
       "      <th>217</th>\n",
       "      <td>245</td>\n",
       "      <td>DeliveredStatus</td>\n",
       "      <td>239</td>\n",
       "    </tr>\n",
       "    <tr>\n",
       "      <th>218</th>\n",
       "      <td>245</td>\n",
       "      <td>CanceledStatus</td>\n",
       "      <td>6</td>\n",
       "    </tr>\n",
       "    <tr>\n",
       "      <th>219</th>\n",
       "      <td>455</td>\n",
       "      <td>DeliveredStatus</td>\n",
       "      <td>433</td>\n",
       "    </tr>\n",
       "    <tr>\n",
       "      <th>220</th>\n",
       "      <td>455</td>\n",
       "      <td>CanceledStatus</td>\n",
       "      <td>22</td>\n",
       "    </tr>\n",
       "  </tbody>\n",
       "</table>\n",
       "<p>221 rows × 3 columns</p>\n",
       "</div>"
      ],
      "text/plain": [
       "     daily_del               st  final_status\n",
       "0            1  DeliveredStatus           859\n",
       "1            1   CanceledStatus           267\n",
       "2            2  DeliveredStatus          1260\n",
       "3            2   CanceledStatus           320\n",
       "4            3  DeliveredStatus          1310\n",
       "..         ...              ...           ...\n",
       "216        228   CanceledStatus            29\n",
       "217        245  DeliveredStatus           239\n",
       "218        245   CanceledStatus             6\n",
       "219        455  DeliveredStatus           433\n",
       "220        455   CanceledStatus            22\n",
       "\n",
       "[221 rows x 3 columns]"
      ]
     },
     "execution_count": 58,
     "metadata": {},
     "output_type": "execute_result"
    }
   ],
   "source": [
    "data = pd.DataFrame(dftrain.groupby('daily_del').final_status.value_counts()).rename_axis(index=['daily_del','st']).reset_index()\n",
    "data"
   ]
  },
  {
   "cell_type": "code",
   "execution_count": 59,
   "id": "5a49cc7d-a5be-4863-b037-38b8ac295870",
   "metadata": {},
   "outputs": [
    {
     "data": {
      "text/plain": [
       "<AxesSubplot:xlabel='daily_del', ylabel='final_status'>"
      ]
     },
     "execution_count": 59,
     "metadata": {},
     "output_type": "execute_result"
    },
    {
     "data": {
      "image/png": "[encoded data removed]",
      "text/plain": [
       "<Figure size 432x288 with 1 Axes>"
      ]
     },
     "metadata": {
      "needs_background": "light"
     },
     "output_type": "display_data"
    }
   ],
   "source": [
    "sns.scatterplot(data=data, x='daily_del', y='final_status', hue='st', alpha=0.2)"
   ]
  },
  {
   "cell_type": "code",
   "execution_count": 60,
   "id": "560c05a0-5683-4d76-8d5f-eefdf037dfa5",
   "metadata": {},
   "outputs": [],
   "source": [
    "from category_encoders import TargetEncoder"
   ]
  },
  {
   "cell_type": "code",
   "execution_count": 61,
   "id": "af2442f3-d557-4d83-9e5c-4c70abac5588",
   "metadata": {},
   "outputs": [
    {
     "name": "stderr",
     "output_type": "stream",
     "text": [
      "/opt/homebrew/Caskroom/miniforge/base/envs/py38_ds/lib/python3.8/site-packages/category_encoders/utils.py:21: FutureWarning: is_categorical is deprecated and will be removed in a future version.  Use is_categorical_dtype instead\n",
      "  elif pd.api.types.is_categorical(cols):\n"
     ]
    }
   ],
   "source": [
    "te = TargetEncoder()\n",
    "dftrain['store_enc'] = te.fit_transform(dftrain['store_address'],dftrain.status)"
   ]
  },
  {
   "cell_type": "code",
   "execution_count": 4,
   "id": "a11dcefa-b4c7-440a-aa3f-b371ca3f0361",
   "metadata": {},
   "outputs": [
    {
     "ename": "NameError",
     "evalue": "name 'XGBClassifier' is not defined",
     "output_type": "error",
     "traceback": [
      "\u001b[0;31m---------------------------------------------------------------------------\u001b[0m",
      "\u001b[0;31mNameError\u001b[0m                                 Traceback (most recent call last)",
      "\u001b[0;32m/var/folders/v1/9zlyk7cx1l95dg8bzmxk09b80000gp/T/ipykernel_39366/2105570073.py\u001b[0m in \u001b[0;36m<module>\u001b[0;34m\u001b[0m\n\u001b[1;32m      2\u001b[0m \u001b[0;31m# os.environ['KMP_DUPLICATE_LIB_OK']='True'\u001b[0m\u001b[0;34m\u001b[0m\u001b[0;34m\u001b[0m\u001b[0;34m\u001b[0m\u001b[0m\n\u001b[1;32m      3\u001b[0m \u001b[0;34m\u001b[0m\u001b[0m\n\u001b[0;32m----> 4\u001b[0;31m \u001b[0mclf\u001b[0m \u001b[0;34m=\u001b[0m \u001b[0mXGBClassifier\u001b[0m\u001b[0;34m(\u001b[0m\u001b[0;34m)\u001b[0m\u001b[0;34m\u001b[0m\u001b[0;34m\u001b[0m\u001b[0m\n\u001b[0m\u001b[1;32m      5\u001b[0m \u001b[0mcols\u001b[0m \u001b[0;34m=\u001b[0m \u001b[0;34m[\u001b[0m\u001b[0;34m'store_enc'\u001b[0m\u001b[0;34m,\u001b[0m \u001b[0;34m'daily_del'\u001b[0m\u001b[0;34m,\u001b[0m \u001b[0;34m'products_total'\u001b[0m\u001b[0;34m,\u001b[0m\u001b[0;34m'n_of_products'\u001b[0m\u001b[0;34m,\u001b[0m\u001b[0;34m'hour'\u001b[0m\u001b[0;34m]\u001b[0m\u001b[0;34m\u001b[0m\u001b[0;34m\u001b[0m\u001b[0m\n\u001b[1;32m      6\u001b[0m \u001b[0;34m\u001b[0m\u001b[0m\n",
      "\u001b[0;31mNameError\u001b[0m: name 'XGBClassifier' is not defined"
     ]
    }
   ],
   "source": [
    "# import os\n",
    "# os.environ['KMP_DUPLICATE_LIB_OK']='True'\n",
    "\n",
    "clf = XGBClassifier()\n",
    "cols = ['store_enc', 'daily_del', 'products_total','n_of_products','hour']\n",
    "\n",
    "clf.fit(dftrain[cols],dftrain.status)"
   ]
  },
  {
   "cell_type": "code",
   "execution_count": 3,
   "id": "0a8ffebb-e2f2-4c17-bee7-92a0859393fe",
   "metadata": {},
   "outputs": [
    {
     "ename": "NameError",
     "evalue": "name 'f1_score' is not defined",
     "output_type": "error",
     "traceback": [
      "\u001b[0;31m---------------------------------------------------------------------------\u001b[0m",
      "\u001b[0;31mNameError\u001b[0m                                 Traceback (most recent call last)",
      "\u001b[0;32m/var/folders/v1/9zlyk7cx1l95dg8bzmxk09b80000gp/T/ipykernel_39366/1562751967.py\u001b[0m in \u001b[0;36m<module>\u001b[0;34m\u001b[0m\n\u001b[0;32m----> 1\u001b[0;31m \u001b[0mf1_score\u001b[0m\u001b[0;34m(\u001b[0m\u001b[0mdftrain\u001b[0m\u001b[0;34m.\u001b[0m\u001b[0mstatus\u001b[0m\u001b[0;34m,\u001b[0m \u001b[0mclf\u001b[0m\u001b[0;34m.\u001b[0m\u001b[0mpredict\u001b[0m\u001b[0;34m(\u001b[0m\u001b[0mdftrain\u001b[0m\u001b[0;34m[\u001b[0m\u001b[0mcols\u001b[0m\u001b[0;34m]\u001b[0m\u001b[0;34m)\u001b[0m\u001b[0;34m.\u001b[0m\u001b[0mround\u001b[0m\u001b[0;34m(\u001b[0m\u001b[0;34m)\u001b[0m\u001b[0;34m,\u001b[0m \u001b[0maverage\u001b[0m\u001b[0;34m=\u001b[0m\u001b[0;34m'macro'\u001b[0m\u001b[0;34m)\u001b[0m\u001b[0;34m\u001b[0m\u001b[0;34m\u001b[0m\u001b[0m\n\u001b[0m",
      "\u001b[0;31mNameError\u001b[0m: name 'f1_score' is not defined"
     ]
    }
   ],
   "source": [
    "f1_score(dftrain.status, clf.predict(dftrain[cols]).round(), average='macro')"
   ]
  },
  {
   "cell_type": "code",
   "execution_count": 188,
   "id": "0f491352-c3f2-4e8a-8086-3e6d4098a7b5",
   "metadata": {},
   "outputs": [
    {
     "name": "stdout",
     "output_type": "stream",
     "text": [
      "Threshold: 0.0\n",
      "0.6365615023180837\n",
      "[[36623 11875]\n",
      " [ 1077  4755]]\n",
      "Threshold: 0.1\n",
      "0.6365615023180837\n",
      "[[36623 11875]\n",
      " [ 1077  4755]]\n",
      "Threshold: 0.2\n",
      "0.6365615023180837\n",
      "[[36623 11875]\n",
      " [ 1077  4755]]\n",
      "Threshold: 0.30000000000000004\n",
      "0.6365615023180837\n",
      "[[36623 11875]\n",
      " [ 1077  4755]]\n",
      "Threshold: 0.4\n",
      "0.6365615023180837\n",
      "[[36623 11875]\n",
      " [ 1077  4755]]\n",
      "Threshold: 0.5\n",
      "0.6365615023180837\n",
      "[[36623 11875]\n",
      " [ 1077  4755]]\n",
      "Threshold: 0.6000000000000001\n",
      "0.6365615023180837\n",
      "[[36623 11875]\n",
      " [ 1077  4755]]\n",
      "Threshold: 0.7000000000000001\n",
      "0.6365615023180837\n",
      "[[36623 11875]\n",
      " [ 1077  4755]]\n",
      "Threshold: 0.8\n",
      "0.6365615023180837\n",
      "[[36623 11875]\n",
      " [ 1077  4755]]\n",
      "Threshold: 0.9\n",
      "0.6365615023180837\n",
      "[[36623 11875]\n",
      " [ 1077  4755]]\n",
      "Threshold: 1.0\n",
      "0.47164196522348\n",
      "[[48498     0]\n",
      " [ 5832     0]]\n"
     ]
    }
   ],
   "source": [
    "preds = clf.predict(dftrain[cols])\n",
    "for th in np.linspace(0,1,11):\n",
    "    res = (preds > th).astype(int)\n",
    "    print(f'Threshold: {th}')\n",
    "    print(f1_score(dftrain.status, res, average='macro'))\n",
    "    print(confusion_matrix(dftrain.status, res))"
   ]
  },
  {
   "cell_type": "code",
   "execution_count": null,
   "id": "dccf662c-dc90-4ef5-a38b-40d2e9fda138",
   "metadata": {},
   "outputs": [],
   "source": []
  }
 ],
 "metadata": {
  "kernelspec": {
   "display_name": "py38_ds",
   "language": "python",
   "name": "py38_ds"
  },
  "language_info": {
   "codemirror_mode": {
    "name": "ipython",
    "version": 3
   },
   "file_extension": ".py",
   "mimetype": "text/x-python",
   "name": "python",
   "nbconvert_exporter": "python",
   "pygments_lexer": "ipython3",
   "version": "3.8.10"
  }
 },
 "nbformat": 4,
 "nbformat_minor": 5
}
